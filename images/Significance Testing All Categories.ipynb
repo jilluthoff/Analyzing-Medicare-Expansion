{
 "cells": [
  {
   "cell_type": "code",
   "execution_count": 4,
   "metadata": {},
   "outputs": [],
   "source": [
    "import pandas as pd\n",
    "import matplotlib.pyplot as plt\n",
    "import numpy as np\n",
    "from scipy import stats\n",
    "%matplotlib inline\n",
    "plt.style.use('ggplot')"
   ]
  },
  {
   "cell_type": "code",
   "execution_count": 5,
   "metadata": {
    "scrolled": true
   },
   "outputs": [],
   "source": [
    "#Create dataframe from excel file for all states, all data categories\n",
    "overall_data = pd.read_excel('~/github/gal/Analyzing-Medicare-Expansion/data/All States All Data Collected.xlsx')\n",
    "\n",
    "#Subset dataframe to only include states that have expanded Medicare\n",
    "mask = overall_data.Expanded == 'Expanded'\n",
    "expanded = overall_data[mask]\n",
    "\n",
    "#Subset dataframe to only include states that have not expanded Medicare\n",
    "mask = overall_data.Expanded != 'Expanded'\n",
    "not_expanded = overall_data[mask]\n"
   ]
  },
  {
   "cell_type": "code",
   "execution_count": 32,
   "metadata": {},
   "outputs": [
    {
     "data": {
      "text/plain": [
       "0.15"
      ]
     },
     "execution_count": 32,
     "metadata": {},
     "output_type": "execute_result"
    }
   ],
   "source": [
    "#Get sample means\n",
    "\n",
    "overweight_mean_expanded = expanded['% overweight or obese'].mean()\n",
    "smoke_mean_expanded = expanded['% Adults, Smoke'].mean()\n",
    "hd_mean_expanded= expanded['Heart Disease Death Rate per 100,000'].mean()\n",
    "cancer_mean_expanded = expanded['Cancer Death Rate per 100,000'].mean()\n",
    "stroke_mean_expanded = expanded['Stroke Death Rate per 100,000'].mean()\n",
    "mortality_mean_expanded = expanded['Mortality Rate per 100,000'].mean()\n",
    "suicide_mean_expanded = expanded['Suicide Rate per 100,000'].mean()\n",
    "life_exp_mean_expanded = expanded['Life Expectancy'].mean()\n",
    "poor_health_mean_expanded = expanded['% Adults, Health Poor'].mean()\n",
    "fair_health_mean_expanded = expanded['% Adults, Health Fair'].mean()\n",
    "good_health_mean_expanded = expanded['% Adults, Health Good'].mean()\n",
    "vg_health_mean_expanded = expanded['% Adults, Health Very Good'].mean()\n",
    "ex_health_mean_expanded = expanded['% Adults, Health Excellent'].mean()\n",
    "ex_mentalh_mean_expanded = expanded['Excellent Mental Health (0 Poor days)'].mean()\n",
    "good_mental_mean_expanded = expanded['Good Mental Health (1-4 Poor Days)'].mean()\n",
    "fair_mental_mean_expanded = expanded['Fair Mental Health (5-13 Days Poor)'].mean()\n",
    "bad_mental_mean_expanded = expanded['Bad Mental Health (14+ Days Poor)'].mean()\n",
    "no_care_mean_expanded = expanded['% Adults, No care due to cost'].mean()\n",
    "trouble_mean_expanded = expanded['% Adults, Trouble Paying Medical Bills'].mean()\n",
    "uninsured_mean_expanded = expanded['% Adults Uninsured'].mean()\n",
    "\n",
    "\n",
    "overweight_mean_nexpanded = not_expanded['% overweight or obese'].mean()\n",
    "smoke_mean_nexpanded = not_expanded['% Adults, Smoke'].mean()\n",
    "hd_mean_nexpanded= not_expanded['Heart Disease Death Rate per 100,000'].mean()\n",
    "cancer_mean_nexpanded = not_expanded['Cancer Death Rate per 100,000'].mean()\n",
    "stroke_mean_nexpanded = not_expanded['Stroke Death Rate per 100,000'].mean()\n",
    "mortality_mean_nexpanded = not_expanded['Mortality Rate per 100,000'].mean()\n",
    "suicide_mean_nexpanded = not_expanded['Suicide Rate per 100,000'].mean()\n",
    "life_exp_mean_nexpanded = not_expanded['Life Expectancy'].mean()\n",
    "poor_health_mean_nexpanded = not_expanded['% Adults, Health Poor'].mean()\n",
    "fair_health_mean_nexpanded = not_expanded['% Adults, Health Fair'].mean()\n",
    "good_health_mean_nexpanded = not_expanded['% Adults, Health Good'].mean()\n",
    "vg_health_mean_nexpanded = not_expanded['% Adults, Health Very Good'].mean()\n",
    "ex_health_mean_nexpanded = not_expanded['% Adults, Health Excellent'].mean()\n",
    "ex_mentalh_mean_nexpanded = not_expanded['Excellent Mental Health (0 Poor days)'].mean()\n",
    "good_mental_mean_nexpanded = not_expanded['Good Mental Health (1-4 Poor Days)'].mean()\n",
    "fair_mental_mean_nexpanded = not_expanded['Fair Mental Health (5-13 Days Poor)'].mean()\n",
    "bad_mental_mean_nexpanded = not_expanded['Bad Mental Health (14+ Days Poor)'].mean()\n",
    "no_care_mean_nexpanded = not_expanded['% Adults, No care due to cost'].mean()\n",
    "trouble_mean_nexpanded = not_expanded['% Adults, Trouble Paying Medical Bills'].mean()\n",
    "uninsured_mean_nexpanded = not_expanded['% Adults Uninsured'].mean()\n",
    "\n",
    "uninsured_mean_nexpanded"
   ]
  },
  {
   "cell_type": "code",
   "execution_count": 7,
   "metadata": {},
   "outputs": [],
   "source": [
    "#Get sample standard deviations\n",
    "std_overweight_expanded = expanded['% overweight or obese'].std()\n",
    "std_smoke_expanded = expanded['% Adults, Smoke'].std()\n",
    "std_hd_expanded= expanded['Heart Disease Death Rate per 100,000'].std()\n",
    "std_cancer_expanded = expanded['Cancer Death Rate per 100,000'].std()\n",
    "std_stroke_expanded = expanded['Stroke Death Rate per 100,000'].std()\n",
    "std_mortality_expanded = expanded['Mortality Rate per 100,000'].std()\n",
    "std_suicide_expanded = expanded['Suicide Rate per 100,000'].std()\n",
    "std_life_exp_expanded = expanded['Life Expectancy'].std()\n",
    "std_poor_health_expanded = expanded['% Adults, Health Poor'].std()\n",
    "std_fair_health_expanded = expanded['% Adults, Health Fair'].std()\n",
    "std_good_health_expanded = expanded['% Adults, Health Good'].std()\n",
    "std_vg_health_expanded = expanded['% Adults, Health Very Good'].std()\n",
    "std_ex_health_expanded = expanded['% Adults, Health Excellent'].std()\n",
    "std_ex_mentalh_expanded = expanded['Excellent Mental Health (0 Poor days)'].std()\n",
    "std_good_mental_expanded = expanded['Good Mental Health (1-4 Poor Days)'].std()\n",
    "std_fair_mental_expanded = expanded['Fair Mental Health (5-13 Days Poor)'].std()\n",
    "std_bad_mental_expanded = expanded['Bad Mental Health (14+ Days Poor)'].std()\n",
    "std_no_care_expanded = expanded['% Adults, No care due to cost'].std()\n",
    "std_trouble_expanded = expanded['% Adults, Trouble Paying Medical Bills'].std()\n",
    "std_uninsured_expanded = expanded['% Adults Uninsured'].std()\n",
    "\n",
    "\n",
    "std_overweight_nexpanded = not_expanded['% overweight or obese'].std()\n",
    "std_smoke_nexpanded = not_expanded['% Adults, Smoke'].std()\n",
    "std_hd_nexpanded= not_expanded['Heart Disease Death Rate per 100,000'].std()\n",
    "std_cancer_nexpanded = not_expanded['Cancer Death Rate per 100,000'].std()\n",
    "std_stroke_nexpanded = not_expanded['Stroke Death Rate per 100,000'].std()\n",
    "std_mortality_nexpanded = not_expanded['Mortality Rate per 100,000'].std()\n",
    "std_suicide_nexpanded = not_expanded['Suicide Rate per 100,000'].std()\n",
    "std_life_exp_nexpanded = not_expanded['Life Expectancy'].std()\n",
    "std_poor_health_nexpanded = not_expanded['% Adults, Health Poor'].std()\n",
    "std_fair_health_nexpanded = not_expanded['% Adults, Health Fair'].std()\n",
    "std_good_health_nexpanded = not_expanded['% Adults, Health Good'].std()\n",
    "std_vg_health_nexpanded = not_expanded['% Adults, Health Very Good'].std()\n",
    "std_ex_health_nexpanded = not_expanded['% Adults, Health Excellent'].std()\n",
    "std_ex_mentalh_nexpanded = not_expanded['Excellent Mental Health (0 Poor days)'].std()\n",
    "std_good_mental_nexpanded = not_expanded['Good Mental Health (1-4 Poor Days)'].std()\n",
    "std_fair_mental_nexpanded = not_expanded['Fair Mental Health (5-13 Days Poor)'].std()\n",
    "std_bad_mental_nexpanded = not_expanded['Bad Mental Health (14+ Days Poor)'].std()\n",
    "std_no_care_nexpanded = not_expanded['% Adults, No care due to cost'].std()\n",
    "std_trouble_nexpanded = not_expanded['% Adults, Trouble Paying Medical Bills'].std()\n",
    "std_uninsured_nexpanded = not_expanded['% Adults Uninsured'].std()\n"
   ]
  },
  {
   "cell_type": "code",
   "execution_count": 8,
   "metadata": {},
   "outputs": [],
   "source": [
    "alpha = .05/20\n",
    "n_expanded = 31\n",
    "n_not_expanded = 19 "
   ]
  },
  {
   "cell_type": "code",
   "execution_count": 9,
   "metadata": {},
   "outputs": [
    {
     "name": "stdout",
     "output_type": "stream",
     "text": [
      "T-Statistic: -2.4229, P-Value: 0.0194, P < alpha: False\n"
     ]
    }
   ],
   "source": [
    "#Welch's t-test % overweight or obese'\n",
    "t_score_overweight, pval_ow = stats.ttest_ind_from_stats(overweight_mean_expanded, std_overweight_expanded, n_expanded, overweight_mean_nexpanded, std_overweight_nexpanded, n_not_expanded, equal_var=False)\n",
    "print(f\"T-Statistic: {t_score_overweight:.4f}, P-Value: {pval_ow:.4f}, P < alpha: {pval_ow < alpha}\")"
   ]
  },
  {
   "cell_type": "code",
   "execution_count": 10,
   "metadata": {},
   "outputs": [
    {
     "name": "stdout",
     "output_type": "stream",
     "text": [
      "T-Statistic: -0.6858, P-Value: 0.4964, P < alpha: False\n"
     ]
    }
   ],
   "source": [
    "#Welch's t-test % Adults, Smoke\n",
    "t_score_smoke, pval_smoke = stats.ttest_ind_from_stats(smoke_mean_expanded, std_smoke_expanded, n_expanded, smoke_mean_nexpanded, std_smoke_nexpanded, n_not_expanded, equal_var=False)\n",
    "print(f\"T-Statistic: {t_score_smoke:.4f}, P-Value: {pval_smoke:.4f}, P < alpha: {pval_smoke < alpha}\")"
   ]
  },
  {
   "cell_type": "code",
   "execution_count": 11,
   "metadata": {},
   "outputs": [
    {
     "name": "stdout",
     "output_type": "stream",
     "text": [
      "T-Statistic: -1.3163, P-Value: 0.1962, P < alpha: False\n"
     ]
    }
   ],
   "source": [
    "#Welch's t-test Heart Disease Death Rate per 100,000\n",
    "t_score_hd, pval_hd = stats.ttest_ind_from_stats(hd_mean_expanded, std_hd_expanded, n_expanded, hd_mean_nexpanded, std_hd_nexpanded, n_not_expanded, equal_var=False)\n",
    "print(f\"T-Statistic: {t_score_hd:.4f}, P-Value: {pval_hd:.4f}, P < alpha: {pval_hd < alpha}\")"
   ]
  },
  {
   "cell_type": "code",
   "execution_count": 12,
   "metadata": {},
   "outputs": [
    {
     "name": "stdout",
     "output_type": "stream",
     "text": [
      "T-Statistic: -1.1487, P-Value: 0.2578, P < alpha: False\n"
     ]
    }
   ],
   "source": [
    "#Welch's t-test Cancer Death Rate per 100,000\n",
    "t_score_cancer, pval_cancer = stats.ttest_ind_from_stats(cancer_mean_expanded, std_cancer_expanded, n_expanded, cancer_mean_nexpanded, std_cancer_nexpanded, n_not_expanded, equal_var=False)\n",
    "print(f\"T-Statistic: {t_score_cancer:.4f}, P-Value: {pval_cancer:.4f}, P < alpha: {pval_cancer < alpha}\")"
   ]
  },
  {
   "cell_type": "code",
   "execution_count": 13,
   "metadata": {
    "scrolled": true
   },
   "outputs": [
    {
     "name": "stdout",
     "output_type": "stream",
     "text": [
      "T-Statistic: -2.3968, P-Value: 0.0216, P < alpha: False\n"
     ]
    }
   ],
   "source": [
    "#Welch's t-test Stroke Death Rate per 100,000\n",
    "t_score_stroke, pval_stroke = stats.ttest_ind_from_stats(stroke_mean_expanded, std_stroke_expanded, n_expanded, stroke_mean_nexpanded, std_stroke_nexpanded, n_not_expanded, equal_var=False)\n",
    "print(f\"T-Statistic: {t_score_stroke:.4f}, P-Value: {pval_stroke:.4f}, P < alpha: {pval_stroke < alpha}\")"
   ]
  },
  {
   "cell_type": "code",
   "execution_count": 14,
   "metadata": {
    "scrolled": true
   },
   "outputs": [
    {
     "name": "stdout",
     "output_type": "stream",
     "text": [
      "T-Statistic: -2.0245, P-Value: 0.0494, P < alpha: False\n"
     ]
    }
   ],
   "source": [
    "#Welch's t-test Mortality Rate per 100,000\n",
    "t_score_mortality, pval_mortality = stats.ttest_ind_from_stats(mortality_mean_expanded, std_mortality_expanded, n_expanded, mortality_mean_nexpanded, std_mortality_nexpanded, n_not_expanded, equal_var=False)\n",
    "print(f\"T-Statistic: {t_score_mortality:.4f}, P-Value: {pval_mortality:.4f}, P < alpha: {pval_mortality < alpha}\")"
   ]
  },
  {
   "cell_type": "code",
   "execution_count": 15,
   "metadata": {},
   "outputs": [
    {
     "name": "stdout",
     "output_type": "stream",
     "text": [
      "T-Statistic: -1.1916, P-Value: 0.2395, P < alpha: False\n"
     ]
    }
   ],
   "source": [
    "#Welch's t-test Suicide Rate per 100,000\n",
    "t_score_suicide, pval_suicide = stats.ttest_ind_from_stats(suicide_mean_expanded, std_suicide_expanded, n_expanded, suicide_mean_nexpanded, std_suicide_nexpanded, n_not_expanded, equal_var=False)\n",
    "print(f\"T-Statistic: {t_score_suicide:.4f}, P-Value: {pval_suicide:.4f}, P < alpha: {pval_suicide < alpha}\")"
   ]
  },
  {
   "cell_type": "code",
   "execution_count": 16,
   "metadata": {},
   "outputs": [
    {
     "name": "stdout",
     "output_type": "stream",
     "text": [
      "T-Statistic: 1.8499, P-Value: 0.0713, P < alpha: False\n"
     ]
    }
   ],
   "source": [
    "#Welch's t-test Life Expectancy\n",
    "t_score_life_exp, pval_life_exp = stats.ttest_ind_from_stats(life_exp_mean_expanded, std_life_exp_expanded, n_expanded, life_exp_mean_nexpanded, std_life_exp_nexpanded, n_not_expanded, equal_var=False)\n",
    "print(f\"T-Statistic: {t_score_life_exp:.4f}, P-Value: {pval_life_exp:.4f}, P < alpha: {pval_life_exp < alpha}\")"
   ]
  },
  {
   "cell_type": "code",
   "execution_count": 17,
   "metadata": {},
   "outputs": [
    {
     "name": "stdout",
     "output_type": "stream",
     "text": [
      "T-Statistic: -1.4605, P-Value: 0.1522, P < alpha: False\n"
     ]
    }
   ],
   "source": [
    "#Welch's t-test % Adults, Health Poor\n",
    "t_score_stroke, pval_poor_health = stats.ttest_ind_from_stats(poor_health_mean_expanded, std_poor_health_expanded, n_expanded, poor_health_mean_nexpanded, std_poor_health_nexpanded, n_not_expanded, equal_var=False)\n",
    "print(f\"T-Statistic: {t_score_stroke:.4f}, P-Value: {pval_poor_health:.4f}, P < alpha: {pval_poor_health < alpha}\")"
   ]
  },
  {
   "cell_type": "code",
   "execution_count": 18,
   "metadata": {},
   "outputs": [
    {
     "name": "stdout",
     "output_type": "stream",
     "text": [
      "T-Statistic: -0.5396, P-Value: 0.5922, P < alpha: False\n"
     ]
    }
   ],
   "source": [
    "#Welch's t-test% Adults, Health Fair\n",
    "t_score_fair_health, pval_fair_health = stats.ttest_ind_from_stats(fair_health_mean_expanded, std_fair_health_expanded, n_expanded, fair_health_mean_nexpanded, std_fair_health_nexpanded, n_not_expanded, equal_var=False)\n",
    "print(f\"T-Statistic: {t_score_fair_health:.4f}, P-Value: {pval_fair_health:.4f}, P < alpha: {pval_fair_health < alpha}\")"
   ]
  },
  {
   "cell_type": "code",
   "execution_count": 19,
   "metadata": {},
   "outputs": [
    {
     "name": "stdout",
     "output_type": "stream",
     "text": [
      "T-Statistic: 8109.9196, P-Value: 0.0000, P < alpha: True\n"
     ]
    }
   ],
   "source": [
    "#Welch's t-test % Adults, Health Good\n",
    "t_score_good_health, pval_good_health = stats.ttest_ind_from_stats(stroke_mean_expanded, std_good_health_expanded, n_expanded, good_health_mean_nexpanded, std_good_health_nexpanded, n_not_expanded, equal_var=False)\n",
    "print(f\"T-Statistic: {t_score_good_health:.4f}, P-Value: {pval_good_health:.4f}, P < alpha: {pval_good_health < alpha}\")"
   ]
  },
  {
   "cell_type": "code",
   "execution_count": 20,
   "metadata": {},
   "outputs": [
    {
     "name": "stdout",
     "output_type": "stream",
     "text": [
      "T-Statistic: 0.2440, P-Value: 0.8085, P < alpha: False\n"
     ]
    }
   ],
   "source": [
    "#Welch's t-test % Adults, Health Very Good\n",
    "t_score_vg_health, pval_vg_health = stats.ttest_ind_from_stats(vg_health_mean_expanded, std_vg_health_expanded, n_expanded, vg_health_mean_nexpanded, std_vg_health_nexpanded, n_not_expanded, equal_var=False)\n",
    "print(f\"T-Statistic: {t_score_vg_health:.4f}, P-Value: {pval_vg_health:.4f}, P < alpha: {pval_vg_health < alpha}\")"
   ]
  },
  {
   "cell_type": "code",
   "execution_count": 21,
   "metadata": {},
   "outputs": [
    {
     "name": "stdout",
     "output_type": "stream",
     "text": [
      "T-Statistic: 1.2078, P-Value: 0.2337, P < alpha: False\n"
     ]
    }
   ],
   "source": [
    "#Welch's t-test % Adults, Health Excellent\n",
    "t_score_ex_health, pval_ex_health = stats.ttest_ind_from_stats(ex_health_mean_expanded, std_ex_health_expanded, n_expanded, ex_health_mean_nexpanded, std_ex_health_nexpanded, n_not_expanded, equal_var=False)\n",
    "print(f\"T-Statistic: {t_score_ex_health:.4f}, P-Value: {pval_ex_health:.4f}, P < alpha: {pval_ex_health < alpha}\")"
   ]
  },
  {
   "cell_type": "code",
   "execution_count": 22,
   "metadata": {},
   "outputs": [
    {
     "name": "stdout",
     "output_type": "stream",
     "text": [
      "T-Statistic: -1.1081, P-Value: 0.2751, P < alpha: False\n"
     ]
    }
   ],
   "source": [
    "#Welch's t-test Excellent Mental Health (0 Poor days)\n",
    "t_score_ex_mentalh, pval_ex_mentalh = stats.ttest_ind_from_stats(ex_mentalh_mean_expanded, std_ex_mentalh_expanded, n_expanded, ex_mentalh_mean_nexpanded, std_ex_mentalh_nexpanded, n_not_expanded, equal_var=False)\n",
    "print(f\"T-Statistic: {t_score_ex_mentalh:.4f}, P-Value: {pval_ex_mentalh:.4f}, P < alpha: {pval_ex_mentalh < alpha}\")"
   ]
  },
  {
   "cell_type": "code",
   "execution_count": 23,
   "metadata": {},
   "outputs": [
    {
     "name": "stdout",
     "output_type": "stream",
     "text": [
      "T-Statistic: 1.5651, P-Value: 0.1259, P < alpha: False\n"
     ]
    }
   ],
   "source": [
    "#Welch's t-test Good Mental Health (1-4 Poor Days)\n",
    "t_score_good_mental, pval_good_mental = stats.ttest_ind_from_stats(good_mental_mean_expanded, std_good_mental_expanded, n_expanded, good_mental_mean_nexpanded, std_good_mental_nexpanded, n_not_expanded, equal_var=False)\n",
    "print(f\"T-Statistic: {t_score_good_mental:.4f}, P-Value: {pval_good_mental:.4f}, P < alpha: {pval_good_mental < alpha}\")"
   ]
  },
  {
   "cell_type": "code",
   "execution_count": 24,
   "metadata": {},
   "outputs": [
    {
     "name": "stdout",
     "output_type": "stream",
     "text": [
      "T-Statistic: 1.6392, P-Value: 0.1107, P < alpha: False\n"
     ]
    }
   ],
   "source": [
    "#Welch's t-test Fair Mental Health (5-13 Days Poor)\n",
    "t_score_fair_mental, pval_fair_mental = stats.ttest_ind_from_stats(fair_mental_mean_expanded, std_fair_mental_expanded, n_expanded, fair_mental_mean_nexpanded, std_fair_mental_nexpanded, n_not_expanded, equal_var=False)\n",
    "print(f\"T-Statistic: {t_score_fair_mental:.4f}, P-Value: {pval_fair_mental:.4f}, P < alpha: {pval_fair_mental < alpha}\")"
   ]
  },
  {
   "cell_type": "code",
   "execution_count": 25,
   "metadata": {},
   "outputs": [
    {
     "name": "stdout",
     "output_type": "stream",
     "text": [
      "T-Statistic: -0.5301, P-Value: 0.5987, P < alpha: False\n"
     ]
    }
   ],
   "source": [
    "#Welch's t-test Bad Mental Health (14+ Days Poor)\n",
    "t_score_bad_mental, pval_bad_mental = stats.ttest_ind_from_stats(bad_mental_mean_expanded, std_bad_mental_expanded, n_expanded, bad_mental_mean_nexpanded, std_bad_mental_nexpanded, n_not_expanded, equal_var=False)\n",
    "print(f\"T-Statistic: {t_score_bad_mental:.4f}, P-Value: {pval_bad_mental:.4f}, P < alpha: {pval_bad_mental < alpha}\")"
   ]
  },
  {
   "cell_type": "code",
   "execution_count": 26,
   "metadata": {},
   "outputs": [
    {
     "name": "stdout",
     "output_type": "stream",
     "text": [
      "T-Statistic: -4.3307, P-Value: 0.0001, P < alpha: True\n"
     ]
    }
   ],
   "source": [
    "#Welch's t-test % Adults, No care due to cost\n",
    "t_score_no_care, pval_no_care = stats.ttest_ind_from_stats(no_care_mean_expanded, std_no_care_expanded, n_expanded, no_care_mean_nexpanded, std_no_care_nexpanded, n_not_expanded, equal_var=False)\n",
    "print(f\"T-Statistic: {t_score_no_care:.4f}, P-Value: {pval_no_care:.4f}, P < alpha: {pval_no_care < alpha}\")"
   ]
  },
  {
   "cell_type": "code",
   "execution_count": 27,
   "metadata": {},
   "outputs": [
    {
     "name": "stdout",
     "output_type": "stream",
     "text": [
      "T-Statistic: -4.8651, P-Value: 0.0000, P < alpha: True\n"
     ]
    }
   ],
   "source": [
    "#Welch's t-test % Adults, Trouble Paying Medical Bills\n",
    "t_score_trouble, pval_trouble = stats.ttest_ind_from_stats(trouble_mean_expanded, std_trouble_expanded, n_expanded, trouble_mean_nexpanded, std_trouble_nexpanded, n_not_expanded, equal_var=False)\n",
    "print(f\"T-Statistic: {t_score_trouble:.4f}, P-Value: {pval_trouble:.4f}, P < alpha: {pval_trouble < alpha}\")"
   ]
  },
  {
   "cell_type": "code",
   "execution_count": 28,
   "metadata": {},
   "outputs": [
    {
     "name": "stdout",
     "output_type": "stream",
     "text": [
      "T-Statistic: -5.2923, P-Value: 0.0000, P < alpha: True\n"
     ]
    }
   ],
   "source": [
    "#Welch's t-test % Adults Uninsured\n",
    "t_score_uninsured, pval_uninsured = stats.ttest_ind_from_stats(uninsured_mean_expanded, std_uninsured_expanded, n_expanded, uninsured_mean_nexpanded, std_uninsured_nexpanded, n_not_expanded, equal_var=False)\n",
    "print(f\"T-Statistic: {t_score_uninsured:.4f}, P-Value: {pval_uninsured:.4f}, P < alpha: {pval_uninsured < alpha}\")"
   ]
  },
  {
   "cell_type": "code",
   "execution_count": null,
   "metadata": {},
   "outputs": [],
   "source": []
  }
 ],
 "metadata": {
  "kernelspec": {
   "display_name": "Python 3",
   "language": "python",
   "name": "python3"
  },
  "language_info": {
   "codemirror_mode": {
    "name": "ipython",
    "version": 3
   },
   "file_extension": ".py",
   "mimetype": "text/x-python",
   "name": "python",
   "nbconvert_exporter": "python",
   "pygments_lexer": "ipython3",
   "version": "3.7.6"
  }
 },
 "nbformat": 4,
 "nbformat_minor": 4
}
