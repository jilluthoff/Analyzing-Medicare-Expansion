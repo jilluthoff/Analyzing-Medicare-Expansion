{
 "cells": [
  {
   "cell_type": "code",
   "execution_count": 13,
   "metadata": {},
   "outputs": [],
   "source": [
    "import plotly.graph_objects as go\n",
    "\n",
    "import pandas as pd\n",
    "df = pd.read_excel('Desktop/All States Correlation Data.xlsx')\n",
    "for col in df.columns:\n",
    "    df[col] = df[col].astype(str)"
   ]
  },
  {
   "cell_type": "code",
   "execution_count": 18,
   "metadata": {},
   "outputs": [
    {
     "data": {
      "application/vnd.plotly.v1+json": {
       "config": {
        "plotlyServerURL": "https://plot.ly"
       },
       "data": [
        {
         "autocolorscale": true,
         "colorbar": {
          "title": {
           "text": "Adoption"
          }
         },
         "colorscale": [
          [
           0,
           "rgb(247,252,245)"
          ],
          [
           0.125,
           "rgb(229,245,224)"
          ],
          [
           0.25,
           "rgb(199,233,192)"
          ],
          [
           0.375,
           "rgb(161,217,155)"
          ],
          [
           0.5,
           "rgb(116,196,118)"
          ],
          [
           0.625,
           "rgb(65,171,93)"
          ],
          [
           0.75,
           "rgb(35,139,69)"
          ],
          [
           0.875,
           "rgb(0,109,44)"
          ],
          [
           1,
           "rgb(0,68,27)"
          ]
         ],
         "locationmode": "USA-states",
         "locations": [
          "AL",
          "AK",
          "AZ",
          "AR",
          "CA",
          "CO",
          "CT",
          "DE",
          "FL",
          "GA",
          "HI",
          "ID",
          "IL",
          "IN",
          "IA",
          "KS",
          "KY",
          "LA",
          "ME",
          "MD",
          "MA",
          "MI",
          "MN",
          "MS",
          "MO",
          "MT",
          "NE",
          "NV",
          "NH",
          "NJ",
          "NM",
          "NY",
          "NC",
          "ND",
          "OH",
          "OK",
          "OR",
          "PA",
          "RI",
          "SC",
          "SD",
          "TN",
          "TX",
          "UT",
          "VT",
          "VA",
          "WA",
          "WV",
          "WI",
          "WY"
         ],
         "marker": {
          "line": {
           "color": "white"
          }
         },
         "text": [
          "Alaska<br>Heart Disease Death Rate per 100,000129.7 Cancer Death Rate per 100,000 141.5<br>Poor Health0.156Poor Mental Health0.2158<br>No care due to cost 0.13649 % Uninsured 0.120369 % Trouble Paying Off Medical Bills 0.264",
          "Arizona<br>Heart Disease Death Rate per 100,000136.4 Cancer Death Rate per 100,000 131.9<br>Poor Health0.194Poor Mental Health0.21989999999999998<br>No care due to cost 0.13306 % Uninsured 0.106147 % Trouble Paying Off Medical Bills 0.261",
          "Arkansas<br>Heart Disease Death Rate per 100,000217.4 Cancer Death Rate per 100,000 168.8<br>Poor Health0.247Poor Mental Health0.2682<br>No care due to cost 0.14871 % Uninsured 0.082839 % Trouble Paying Off Medical Bills 0.325",
          "California<br>Heart Disease Death Rate per 100,000139.7 Cancer Death Rate per 100,000 135.0<br>Poor Health0.18100000000000002Poor Mental Health0.2222<br>No care due to cost 0.11855 % Uninsured 0.071597 % Trouble Paying Off Medical Bills 0.178",
          "Colorado<br>Heart Disease Death Rate per 100,000124.3 Cancer Death Rate per 100,000 127.6<br>Poor Health0.14Poor Mental Health0.2258<br>No care due to cost 0.12155 % Uninsured 0.076538 % Trouble Paying Off Medical Bills 0.279",
          "Connecticut<br>Heart Disease Death Rate per 100,000142.1 Cancer Death Rate per 100,000 134.1<br>Poor Health0.138Poor Mental Health0.2037<br>No care due to cost 0.09197 % Uninsured 0.053396 % Trouble Paying Off Medical Bills 0.179",
          "Delaware<br>Heart Disease Death Rate per 100,000159.1 Cancer Death Rate per 100,000 159.4<br>Poor Health0.171Poor Mental Health0.20879999999999999<br>No care due to cost 0.10554 % Uninsured 0.057541 % Trouble Paying Off Medical Bills 0.284",
          "Hawaii<br>Heart Disease Death Rate per 100,000125.6 Cancer Death Rate per 100,000 123.5<br>Poor Health0.163Poor Mental Health0.189<br>No care due to cost 0.07346 % Uninsured 0.038517 % Trouble Paying Off Medical Bills 0.149",
          "Illinois<br>Heart Disease Death Rate per 100,000163.9 Cancer Death Rate per 100,000 153.5<br>Poor Health0.168Poor Mental Health0.2244<br>No care due to cost 0.11501 % Uninsured 0.070565 % Trouble Paying Off Medical Bills 0.287",
          "Indiana<br>Heart Disease Death Rate per 100,000180.7 Cancer Death Rate per 100,000 165.7<br>Poor Health0.193Poor Mental Health0.2531<br>No care due to cost 0.12174 % Uninsured 0.084664 % Trouble Paying Off Medical Bills 0.365",
          "Iowa<br>Heart Disease Death Rate per 100,000165.1 Cancer Death Rate per 100,000 155.3<br>Poor Health0.14200000000000002Poor Mental Health0.1965<br>No care due to cost 0.07745 % Uninsured 0.049429 % Trouble Paying Off Medical Bills 0.292",
          "Kentucky<br>Heart Disease Death Rate per 100,000198.3 Cancer Death Rate per 100,000 181.6<br>Poor Health0.235Poor Mental Health0.2638<br>No care due to cost 0.12638 % Uninsured 0.055742 % Trouble Paying Off Medical Bills 0.325",
          "Louisiana<br>Heart Disease Death Rate per 100,000212.2 Cancer Death Rate per 100,000 169.0<br>Poor Health0.221Poor Mental Health0.2749<br>No care due to cost 0.14825 % Uninsured 0.079368 % Trouble Paying Off Medical Bills 0.371",
          "Maryland<br>Heart Disease Death Rate per 100,000161.9 Cancer Death Rate per 100,000 149.9<br>Poor Health0.159Poor Mental Health0.2192<br>No care due to cost 0.11234 % Uninsured 0.059643 % Trouble Paying Off Medical Bills 0.202",
          "Massachusetts<br>Heart Disease Death Rate per 100,000131.5 Cancer Death Rate per 100,000 142.8<br>Poor Health0.14200000000000002Poor Mental Health0.2455<br>No care due to cost 0.08773 % Uninsured 0.02721 % Trouble Paying Off Medical Bills 0.212",
          "Michigan<br>Heart Disease Death Rate per 100,000195.0 Cancer Death Rate per 100,000 161.1<br>Poor Health0.192Poor Mental Health0.2559<br>No care due to cost 0.11794 % Uninsured 0.053887 % Trouble Paying Off Medical Bills 0.341",
          "Minnesota<br>Heart Disease Death Rate per 100,000119.0 Cancer Death Rate per 100,000 143.1<br>Poor Health0.135Poor Mental Health0.1987<br>No care due to cost 0.10027 % Uninsured 0.043484 % Trouble Paying Off Medical Bills 0.247",
          "Montana<br>Heart Disease Death Rate per 100,000163.2 Cancer Death Rate per 100,000 140.7<br>Poor Health0.15Poor Mental Health0.2082<br>No care due to cost 0.10056 % Uninsured 0.081167 % Trouble Paying Off Medical Bills 0.33",
          "Nevada<br>Heart Disease Death Rate per 100,000190.7 Cancer Death Rate per 100,000 146.5<br>Poor Health0.206Poor Mental Health0.2295<br>No care due to cost 0.14489 % Uninsured 0.113516 % Trouble Paying Off Medical Bills 0.318",
          "New Hampshire<br>Heart Disease Death Rate per 100,000151.0 Cancer Death Rate per 100,000 143.7<br>Poor Health0.134Poor Mental Health0.2228<br>No care due to cost 0.10584 % Uninsured 0.052075 % Trouble Paying Off Medical Bills 0.281",
          "New Jersey<br>Heart Disease Death Rate per 100,000163.0 Cancer Death Rate per 100,000 141.3<br>Poor Health0.167Poor Mental Health0.21389999999999998<br>No care due to cost 0.13053 % Uninsured 0.074196 % Trouble Paying Off Medical Bills 0.228",
          "New Mexico<br>Heart Disease Death Rate per 100,000148.2 Cancer Death Rate per 100,000 136.4<br>Poor Health0.216Poor Mental Health0.2421<br>No care due to cost 0.1301 % Uninsured 0.093357 % Trouble Paying Off Medical Bills 0.218",
          "New York<br>Heart Disease Death Rate per 100,000171.9 Cancer Death Rate per 100,000 138.2<br>Poor Health0.16999999999999998Poor Mental Health0.2031<br>No care due to cost 0.11038 % Uninsured 0.052948 % Trouble Paying Off Medical Bills 0.168",
          "North Dakota<br>Heart Disease Death Rate per 100,000140.0 Cancer Death Rate per 100,000 145.2<br>Poor Health0.138Poor Mental Health0.2165<br>No care due to cost 0.09274 % Uninsured 0.077042 % Trouble Paying Off Medical Bills 0.252",
          "Ohio<br>Heart Disease Death Rate per 100,000191.1 Cancer Death Rate per 100,000 165.2<br>Poor Health0.187Poor Mental Health0.24<br>No care due to cost 0.10197 % Uninsured 0.064757 % Trouble Paying Off Medical Bills 0.329",
          "Oregon<br>Heart Disease Death Rate per 100,000128.4 Cancer Death Rate per 100,000 150.6<br>Poor Health0.187Poor Mental Health0.257<br>No care due to cost 0.12641 % Uninsured 0.071976 % Trouble Paying Off Medical Bills 0.298",
          "Pennsylvania<br>Heart Disease Death Rate per 100,000176.1 Cancer Death Rate per 100,000 156.6<br>Poor Health0.189Poor Mental Health0.2548<br>No care due to cost 0.09442 % Uninsured 0.055889 % Trouble Paying Off Medical Bills 0.248",
          "Rhode Island<br>Heart Disease Death Rate per 100,000158.9 Cancer Death Rate per 100,000 151.6<br>Poor Health0.17300000000000001Poor Mental Health0.2259<br>No care due to cost 0.1051 % Uninsured 0.040295 % Trouble Paying Off Medical Bills 0.263",
          "Vermont<br>Heart Disease Death Rate per 100,000150.5 Cancer Death Rate per 100,000 156.0<br>Poor Health0.138Poor Mental Health0.2243<br>No care due to cost 0.07648 % Uninsured 0.040721 % Trouble Paying Off Medical Bills 0.265",
          "Washington<br>Heart Disease Death Rate per 100,000135.4 Cancer Death Rate per 100,000 145.3<br>Poor Health0.157Poor Mental Health0.2334<br>No care due to cost 0.10957 % Uninsured 0.065377 % Trouble Paying Off Medical Bills 0.264",
          "West Virginia<br>Heart Disease Death Rate per 100,000196.4 Cancer Death Rate per 100,000 179.5<br>Poor Health0.263Poor Mental Health0.29090000000000005<br>No care due to cost 0.1491 % Uninsured 0.061747 % Trouble Paying Off Medical Bills 0.39",
          "Idaho<br>Heart Disease Death Rate per 100,000157.9 Cancer Death Rate per 100,000 149.5<br>Poor Health0.159Poor Mental Health0.2406<br>No care due to cost 0.14964 % Uninsured 0.11149 % Trouble Paying Off Medical Bills 0.356",
          "Maine<br>Heart Disease Death Rate per 100,000147.0 Cancer Death Rate per 100,000 162.1<br>Poor Health0.18Poor Mental Health0.2455<br>No care due to cost 0.11768 % Uninsured 0.078497 % Trouble Paying Off Medical Bills 0.352",
          "Nebraska<br>Heart Disease Death Rate per 100,000145.7 Cancer Death Rate per 100,000 150.5<br>Poor Health0.14500000000000002Poor Mental Health0.2047<br>No care due to cost 0.11818 % Uninsured 0.084567 % Trouble Paying Off Medical Bills 0.379",
          "Oklahoma<br>Heart Disease Death Rate per 100,000228.5 Cancer Death Rate per 100,000 178.1<br>Poor Health0.217Poor Mental Health0.2556<br>No care due to cost 0.14904 % Uninsured 0.136629 % Trouble Paying Off Medical Bills 0.405",
          "Utah<br>Heart Disease Death Rate per 100,000146.4 Cancer Death Rate per 100,000 120.0<br>Poor Health0.14500000000000002Poor Mental Health0.2453<br>No care due to cost 0.13042 % Uninsured 0.089924 % Trouble Paying Off Medical Bills 0.341",
          "Virginia<br>Heart Disease Death Rate per 100,000147.9 Cancer Death Rate per 100,000 149.3<br>Poor Health0.174Poor Mental Health0.22099999999999997<br>No care due to cost 0.13024 % Uninsured 0.086833 % Trouble Paying Off Medical Bills 0.286",
          "Alabama<br>Heart Disease Death Rate per 100,000224.7 Cancer Death Rate per 100,000 170.4<br>Poor Health0.22899999999999998Poor Mental Health0.2587<br>No care due to cost 0.1621 % Uninsured 0.101714 % Trouble Paying Off Medical Bills 0.342",
          "Florida<br>Heart Disease Death Rate per 100,000143.1 Cancer Death Rate per 100,000 141.7<br>Poor Health0.20800000000000002Poor Mental Health0.2087<br>No care due to cost 0.16176 % Uninsured 0.131528 % Trouble Paying Off Medical Bills 0.284",
          "Georgia<br>Heart Disease Death Rate per 100,000175.8 Cancer Death Rate per 100,000 152.4<br>Poor Health0.191Poor Mental Health0.2264<br>No care due to cost 0.18199 % Uninsured 0.137747 % Trouble Paying Off Medical Bills 0.336",
          "Kansas<br>Heart Disease Death Rate per 100,000158.9 Cancer Death Rate per 100,000 156.4<br>Poor Health0.16999999999999998Poor Mental Health0.2192<br>No care due to cost 0.12126 % Uninsured 0.087204 % Trouble Paying Off Medical Bills 0.341",
          "Mississippi<br>Heart Disease Death Rate per 100,000222.1 Cancer Death Rate per 100,000 179.7<br>Poor Health0.23299999999999998Poor Mental Health0.23870000000000002<br>No care due to cost 0.17564 % Uninsured 0.122517 % Trouble Paying Off Medical Bills 0.411",
          "Missouri<br>Heart Disease Death Rate per 100,000188.4 Cancer Death Rate per 100,000 165.3<br>Poor Health0.204Poor Mental Health0.2363<br>No care due to cost 0.13286 % Uninsured 0.09379 % Trouble Paying Off Medical Bills 0.366",
          "North Carolina<br>Heart Disease Death Rate per 100,000155.5 Cancer Death Rate per 100,000 154.2<br>Poor Health0.191Poor Mental Health0.2151<br>No care due to cost 0.15054 % Uninsured 0.108529 % Trouble Paying Off Medical Bills 0.343",
          "South Carolina<br>Heart Disease Death Rate per 100,000167.0 Cancer Death Rate per 100,000 157.3<br>Poor Health0.189Poor Mental Health0.24469999999999997<br>No care due to cost 0.15796 % Uninsured 0.104895 % Trouble Paying Off Medical Bills 0.352",
          "South Dakota<br>Heart Disease Death Rate per 100,000156.3 Cancer Death Rate per 100,000 145.2<br>Poor Health0.147Poor Mental Health0.1859<br>No care due to cost 0.10505 % Uninsured 0.093584 % Trouble Paying Off Medical Bills 0.266",
          "Tennessee<br>Heart Disease Death Rate per 100,000202.4 Cancer Death Rate per 100,000 168.0<br>Poor Health0.22699999999999998Poor Mental Health0.2634<br>No care due to cost 0.15812 % Uninsured 0.101776 % Trouble Paying Off Medical Bills 0.313",
          "Texas<br>Heart Disease Death Rate per 100,000170.0 Cancer Death Rate per 100,000 142.9<br>Poor Health0.191Poor Mental Health0.2044<br>No care due to cost 0.16847 % Uninsured 0.176901 % Trouble Paying Off Medical Bills 0.337",
          "Wisconsin<br>Heart Disease Death Rate per 100,000157.8 Cancer Death Rate per 100,000 151.5<br>Poor Health0.156Poor Mental Health0.2238<br>No care due to cost 0.09925 % Uninsured 0.055387 % Trouble Paying Off Medical Bills 0.293",
          "Wyoming<br>Heart Disease Death Rate per 100,000152.7 Cancer Death Rate per 100,000 140.6<br>Poor Health0.159Poor Mental Health0.20040000000000002<br>No care due to cost 0.13168 % Uninsured 0.105625 % Trouble Paying Off Medical Bills 0.436"
         ],
         "type": "choropleth",
         "z": [
          "Adopted",
          "Adopted",
          "Adopted",
          "Adopted",
          "Adopted",
          "Adopted",
          "Adopted",
          "Adopted",
          "Adopted",
          "Adopted",
          "Adopted",
          "Adopted",
          "Adopted",
          "Adopted",
          "Adopted",
          "Adopted",
          "Adopted",
          "Adopted",
          "Adopted",
          "Adopted",
          "Adopted",
          "Adopted",
          "Adopted",
          "Adopted",
          "Adopted",
          "Adopted",
          "Adopted",
          "Adopted",
          "Adopted",
          "Adopted",
          "Adopted",
          "Adopted, not implemented",
          "Adopted, not implemented",
          "Adopted, not implemented",
          "Adopted, not implemented",
          "Adopted, not implemented",
          "Adopted, not implemented",
          "Not Adopted",
          "Not Adopted",
          "Not Adopted",
          "Not Adopted",
          "Not Adopted",
          "Not Adopted",
          "Not Adopted",
          "Not Adopted",
          "Not Adopted",
          "Not Adopted",
          "Not Adopted",
          "Not Adopted",
          "Not Adopted"
         ]
        }
       ],
       "layout": {
        "geo": {
         "lakecolor": "rgb(255, 255, 255)",
         "projection": {
          "type": "albers usa"
         },
         "scope": "usa",
         "showlakes": true
        },
        "template": {
         "data": {
          "bar": [
           {
            "error_x": {
             "color": "#2a3f5f"
            },
            "error_y": {
             "color": "#2a3f5f"
            },
            "marker": {
             "line": {
              "color": "#E5ECF6",
              "width": 0.5
             }
            },
            "type": "bar"
           }
          ],
          "barpolar": [
           {
            "marker": {
             "line": {
              "color": "#E5ECF6",
              "width": 0.5
             }
            },
            "type": "barpolar"
           }
          ],
          "carpet": [
           {
            "aaxis": {
             "endlinecolor": "#2a3f5f",
             "gridcolor": "white",
             "linecolor": "white",
             "minorgridcolor": "white",
             "startlinecolor": "#2a3f5f"
            },
            "baxis": {
             "endlinecolor": "#2a3f5f",
             "gridcolor": "white",
             "linecolor": "white",
             "minorgridcolor": "white",
             "startlinecolor": "#2a3f5f"
            },
            "type": "carpet"
           }
          ],
          "choropleth": [
           {
            "colorbar": {
             "outlinewidth": 0,
             "ticks": ""
            },
            "type": "choropleth"
           }
          ],
          "contour": [
           {
            "colorbar": {
             "outlinewidth": 0,
             "ticks": ""
            },
            "colorscale": [
             [
              0,
              "#0d0887"
             ],
             [
              0.1111111111111111,
              "#46039f"
             ],
             [
              0.2222222222222222,
              "#7201a8"
             ],
             [
              0.3333333333333333,
              "#9c179e"
             ],
             [
              0.4444444444444444,
              "#bd3786"
             ],
             [
              0.5555555555555556,
              "#d8576b"
             ],
             [
              0.6666666666666666,
              "#ed7953"
             ],
             [
              0.7777777777777778,
              "#fb9f3a"
             ],
             [
              0.8888888888888888,
              "#fdca26"
             ],
             [
              1,
              "#f0f921"
             ]
            ],
            "type": "contour"
           }
          ],
          "contourcarpet": [
           {
            "colorbar": {
             "outlinewidth": 0,
             "ticks": ""
            },
            "type": "contourcarpet"
           }
          ],
          "heatmap": [
           {
            "colorbar": {
             "outlinewidth": 0,
             "ticks": ""
            },
            "colorscale": [
             [
              0,
              "#0d0887"
             ],
             [
              0.1111111111111111,
              "#46039f"
             ],
             [
              0.2222222222222222,
              "#7201a8"
             ],
             [
              0.3333333333333333,
              "#9c179e"
             ],
             [
              0.4444444444444444,
              "#bd3786"
             ],
             [
              0.5555555555555556,
              "#d8576b"
             ],
             [
              0.6666666666666666,
              "#ed7953"
             ],
             [
              0.7777777777777778,
              "#fb9f3a"
             ],
             [
              0.8888888888888888,
              "#fdca26"
             ],
             [
              1,
              "#f0f921"
             ]
            ],
            "type": "heatmap"
           }
          ],
          "heatmapgl": [
           {
            "colorbar": {
             "outlinewidth": 0,
             "ticks": ""
            },
            "colorscale": [
             [
              0,
              "#0d0887"
             ],
             [
              0.1111111111111111,
              "#46039f"
             ],
             [
              0.2222222222222222,
              "#7201a8"
             ],
             [
              0.3333333333333333,
              "#9c179e"
             ],
             [
              0.4444444444444444,
              "#bd3786"
             ],
             [
              0.5555555555555556,
              "#d8576b"
             ],
             [
              0.6666666666666666,
              "#ed7953"
             ],
             [
              0.7777777777777778,
              "#fb9f3a"
             ],
             [
              0.8888888888888888,
              "#fdca26"
             ],
             [
              1,
              "#f0f921"
             ]
            ],
            "type": "heatmapgl"
           }
          ],
          "histogram": [
           {
            "marker": {
             "colorbar": {
              "outlinewidth": 0,
              "ticks": ""
             }
            },
            "type": "histogram"
           }
          ],
          "histogram2d": [
           {
            "colorbar": {
             "outlinewidth": 0,
             "ticks": ""
            },
            "colorscale": [
             [
              0,
              "#0d0887"
             ],
             [
              0.1111111111111111,
              "#46039f"
             ],
             [
              0.2222222222222222,
              "#7201a8"
             ],
             [
              0.3333333333333333,
              "#9c179e"
             ],
             [
              0.4444444444444444,
              "#bd3786"
             ],
             [
              0.5555555555555556,
              "#d8576b"
             ],
             [
              0.6666666666666666,
              "#ed7953"
             ],
             [
              0.7777777777777778,
              "#fb9f3a"
             ],
             [
              0.8888888888888888,
              "#fdca26"
             ],
             [
              1,
              "#f0f921"
             ]
            ],
            "type": "histogram2d"
           }
          ],
          "histogram2dcontour": [
           {
            "colorbar": {
             "outlinewidth": 0,
             "ticks": ""
            },
            "colorscale": [
             [
              0,
              "#0d0887"
             ],
             [
              0.1111111111111111,
              "#46039f"
             ],
             [
              0.2222222222222222,
              "#7201a8"
             ],
             [
              0.3333333333333333,
              "#9c179e"
             ],
             [
              0.4444444444444444,
              "#bd3786"
             ],
             [
              0.5555555555555556,
              "#d8576b"
             ],
             [
              0.6666666666666666,
              "#ed7953"
             ],
             [
              0.7777777777777778,
              "#fb9f3a"
             ],
             [
              0.8888888888888888,
              "#fdca26"
             ],
             [
              1,
              "#f0f921"
             ]
            ],
            "type": "histogram2dcontour"
           }
          ],
          "mesh3d": [
           {
            "colorbar": {
             "outlinewidth": 0,
             "ticks": ""
            },
            "type": "mesh3d"
           }
          ],
          "parcoords": [
           {
            "line": {
             "colorbar": {
              "outlinewidth": 0,
              "ticks": ""
             }
            },
            "type": "parcoords"
           }
          ],
          "pie": [
           {
            "automargin": true,
            "type": "pie"
           }
          ],
          "scatter": [
           {
            "marker": {
             "colorbar": {
              "outlinewidth": 0,
              "ticks": ""
             }
            },
            "type": "scatter"
           }
          ],
          "scatter3d": [
           {
            "line": {
             "colorbar": {
              "outlinewidth": 0,
              "ticks": ""
             }
            },
            "marker": {
             "colorbar": {
              "outlinewidth": 0,
              "ticks": ""
             }
            },
            "type": "scatter3d"
           }
          ],
          "scattercarpet": [
           {
            "marker": {
             "colorbar": {
              "outlinewidth": 0,
              "ticks": ""
             }
            },
            "type": "scattercarpet"
           }
          ],
          "scattergeo": [
           {
            "marker": {
             "colorbar": {
              "outlinewidth": 0,
              "ticks": ""
             }
            },
            "type": "scattergeo"
           }
          ],
          "scattergl": [
           {
            "marker": {
             "colorbar": {
              "outlinewidth": 0,
              "ticks": ""
             }
            },
            "type": "scattergl"
           }
          ],
          "scattermapbox": [
           {
            "marker": {
             "colorbar": {
              "outlinewidth": 0,
              "ticks": ""
             }
            },
            "type": "scattermapbox"
           }
          ],
          "scatterpolar": [
           {
            "marker": {
             "colorbar": {
              "outlinewidth": 0,
              "ticks": ""
             }
            },
            "type": "scatterpolar"
           }
          ],
          "scatterpolargl": [
           {
            "marker": {
             "colorbar": {
              "outlinewidth": 0,
              "ticks": ""
             }
            },
            "type": "scatterpolargl"
           }
          ],
          "scatterternary": [
           {
            "marker": {
             "colorbar": {
              "outlinewidth": 0,
              "ticks": ""
             }
            },
            "type": "scatterternary"
           }
          ],
          "surface": [
           {
            "colorbar": {
             "outlinewidth": 0,
             "ticks": ""
            },
            "colorscale": [
             [
              0,
              "#0d0887"
             ],
             [
              0.1111111111111111,
              "#46039f"
             ],
             [
              0.2222222222222222,
              "#7201a8"
             ],
             [
              0.3333333333333333,
              "#9c179e"
             ],
             [
              0.4444444444444444,
              "#bd3786"
             ],
             [
              0.5555555555555556,
              "#d8576b"
             ],
             [
              0.6666666666666666,
              "#ed7953"
             ],
             [
              0.7777777777777778,
              "#fb9f3a"
             ],
             [
              0.8888888888888888,
              "#fdca26"
             ],
             [
              1,
              "#f0f921"
             ]
            ],
            "type": "surface"
           }
          ],
          "table": [
           {
            "cells": {
             "fill": {
              "color": "#EBF0F8"
             },
             "line": {
              "color": "white"
             }
            },
            "header": {
             "fill": {
              "color": "#C8D4E3"
             },
             "line": {
              "color": "white"
             }
            },
            "type": "table"
           }
          ]
         },
         "layout": {
          "annotationdefaults": {
           "arrowcolor": "#2a3f5f",
           "arrowhead": 0,
           "arrowwidth": 1
          },
          "coloraxis": {
           "colorbar": {
            "outlinewidth": 0,
            "ticks": ""
           }
          },
          "colorscale": {
           "diverging": [
            [
             0,
             "#8e0152"
            ],
            [
             0.1,
             "#c51b7d"
            ],
            [
             0.2,
             "#de77ae"
            ],
            [
             0.3,
             "#f1b6da"
            ],
            [
             0.4,
             "#fde0ef"
            ],
            [
             0.5,
             "#f7f7f7"
            ],
            [
             0.6,
             "#e6f5d0"
            ],
            [
             0.7,
             "#b8e186"
            ],
            [
             0.8,
             "#7fbc41"
            ],
            [
             0.9,
             "#4d9221"
            ],
            [
             1,
             "#276419"
            ]
           ],
           "sequential": [
            [
             0,
             "#0d0887"
            ],
            [
             0.1111111111111111,
             "#46039f"
            ],
            [
             0.2222222222222222,
             "#7201a8"
            ],
            [
             0.3333333333333333,
             "#9c179e"
            ],
            [
             0.4444444444444444,
             "#bd3786"
            ],
            [
             0.5555555555555556,
             "#d8576b"
            ],
            [
             0.6666666666666666,
             "#ed7953"
            ],
            [
             0.7777777777777778,
             "#fb9f3a"
            ],
            [
             0.8888888888888888,
             "#fdca26"
            ],
            [
             1,
             "#f0f921"
            ]
           ],
           "sequentialminus": [
            [
             0,
             "#0d0887"
            ],
            [
             0.1111111111111111,
             "#46039f"
            ],
            [
             0.2222222222222222,
             "#7201a8"
            ],
            [
             0.3333333333333333,
             "#9c179e"
            ],
            [
             0.4444444444444444,
             "#bd3786"
            ],
            [
             0.5555555555555556,
             "#d8576b"
            ],
            [
             0.6666666666666666,
             "#ed7953"
            ],
            [
             0.7777777777777778,
             "#fb9f3a"
            ],
            [
             0.8888888888888888,
             "#fdca26"
            ],
            [
             1,
             "#f0f921"
            ]
           ]
          },
          "colorway": [
           "#636efa",
           "#EF553B",
           "#00cc96",
           "#ab63fa",
           "#FFA15A",
           "#19d3f3",
           "#FF6692",
           "#B6E880",
           "#FF97FF",
           "#FECB52"
          ],
          "font": {
           "color": "#2a3f5f"
          },
          "geo": {
           "bgcolor": "white",
           "lakecolor": "white",
           "landcolor": "#E5ECF6",
           "showlakes": true,
           "showland": true,
           "subunitcolor": "white"
          },
          "hoverlabel": {
           "align": "left"
          },
          "hovermode": "closest",
          "mapbox": {
           "style": "light"
          },
          "paper_bgcolor": "white",
          "plot_bgcolor": "#E5ECF6",
          "polar": {
           "angularaxis": {
            "gridcolor": "white",
            "linecolor": "white",
            "ticks": ""
           },
           "bgcolor": "#E5ECF6",
           "radialaxis": {
            "gridcolor": "white",
            "linecolor": "white",
            "ticks": ""
           }
          },
          "scene": {
           "xaxis": {
            "backgroundcolor": "#E5ECF6",
            "gridcolor": "white",
            "gridwidth": 2,
            "linecolor": "white",
            "showbackground": true,
            "ticks": "",
            "zerolinecolor": "white"
           },
           "yaxis": {
            "backgroundcolor": "#E5ECF6",
            "gridcolor": "white",
            "gridwidth": 2,
            "linecolor": "white",
            "showbackground": true,
            "ticks": "",
            "zerolinecolor": "white"
           },
           "zaxis": {
            "backgroundcolor": "#E5ECF6",
            "gridcolor": "white",
            "gridwidth": 2,
            "linecolor": "white",
            "showbackground": true,
            "ticks": "",
            "zerolinecolor": "white"
           }
          },
          "shapedefaults": {
           "line": {
            "color": "#2a3f5f"
           }
          },
          "ternary": {
           "aaxis": {
            "gridcolor": "white",
            "linecolor": "white",
            "ticks": ""
           },
           "baxis": {
            "gridcolor": "white",
            "linecolor": "white",
            "ticks": ""
           },
           "bgcolor": "#E5ECF6",
           "caxis": {
            "gridcolor": "white",
            "linecolor": "white",
            "ticks": ""
           }
          },
          "title": {
           "x": 0.05
          },
          "xaxis": {
           "automargin": true,
           "gridcolor": "white",
           "linecolor": "white",
           "ticks": "",
           "title": {
            "standoff": 15
           },
           "zerolinecolor": "white",
           "zerolinewidth": 2
          },
          "yaxis": {
           "automargin": true,
           "gridcolor": "white",
           "linecolor": "white",
           "ticks": "",
           "title": {
            "standoff": 15
           },
           "zerolinecolor": "white",
           "zerolinewidth": 2
          }
         }
        },
        "title": {
         "text": "Medicare Expansion Adoptiong by State"
        }
       }
      },
      "text/html": [
       "<div>\n",
       "        \n",
       "        \n",
       "            <div id=\"82cfb3a0-dce4-453c-bf95-5a1fe71957af\" class=\"plotly-graph-div\" style=\"height:525px; width:100%;\"></div>\n",
       "            <script type=\"text/javascript\">\n",
       "                require([\"plotly\"], function(Plotly) {\n",
       "                    window.PLOTLYENV=window.PLOTLYENV || {};\n",
       "                    \n",
       "                if (document.getElementById(\"82cfb3a0-dce4-453c-bf95-5a1fe71957af\")) {\n",
       "                    Plotly.newPlot(\n",
       "                        '82cfb3a0-dce4-453c-bf95-5a1fe71957af',\n",
       "                        [{\"autocolorscale\": true, \"colorbar\": {\"title\": {\"text\": \"Adoption\"}}, \"colorscale\": [[0.0, \"rgb(247,252,245)\"], [0.125, \"rgb(229,245,224)\"], [0.25, \"rgb(199,233,192)\"], [0.375, \"rgb(161,217,155)\"], [0.5, \"rgb(116,196,118)\"], [0.625, \"rgb(65,171,93)\"], [0.75, \"rgb(35,139,69)\"], [0.875, \"rgb(0,109,44)\"], [1.0, \"rgb(0,68,27)\"]], \"locationmode\": \"USA-states\", \"locations\": [\"AL\", \"AK\", \"AZ\", \"AR\", \"CA\", \"CO\", \"CT\", \"DE\", \"FL\", \"GA\", \"HI\", \"ID\", \"IL\", \"IN\", \"IA\", \"KS\", \"KY\", \"LA\", \"ME\", \"MD\", \"MA\", \"MI\", \"MN\", \"MS\", \"MO\", \"MT\", \"NE\", \"NV\", \"NH\", \"NJ\", \"NM\", \"NY\", \"NC\", \"ND\", \"OH\", \"OK\", \"OR\", \"PA\", \"RI\", \"SC\", \"SD\", \"TN\", \"TX\", \"UT\", \"VT\", \"VA\", \"WA\", \"WV\", \"WI\", \"WY\"], \"marker\": {\"line\": {\"color\": \"white\"}}, \"text\": [\"Alaska<br>Heart Disease Death Rate per 100,000129.7 Cancer Death Rate per 100,000 141.5<br>Poor Health0.156Poor Mental Health0.2158<br>No care due to cost 0.13649 % Uninsured 0.120369 % Trouble Paying Off Medical Bills 0.264\", \"Arizona<br>Heart Disease Death Rate per 100,000136.4 Cancer Death Rate per 100,000 131.9<br>Poor Health0.194Poor Mental Health0.21989999999999998<br>No care due to cost 0.13306 % Uninsured 0.106147 % Trouble Paying Off Medical Bills 0.261\", \"Arkansas<br>Heart Disease Death Rate per 100,000217.4 Cancer Death Rate per 100,000 168.8<br>Poor Health0.247Poor Mental Health0.2682<br>No care due to cost 0.14871 % Uninsured 0.082839 % Trouble Paying Off Medical Bills 0.325\", \"California<br>Heart Disease Death Rate per 100,000139.7 Cancer Death Rate per 100,000 135.0<br>Poor Health0.18100000000000002Poor Mental Health0.2222<br>No care due to cost 0.11855 % Uninsured 0.071597 % Trouble Paying Off Medical Bills 0.178\", \"Colorado<br>Heart Disease Death Rate per 100,000124.3 Cancer Death Rate per 100,000 127.6<br>Poor Health0.14Poor Mental Health0.2258<br>No care due to cost 0.12155 % Uninsured 0.076538 % Trouble Paying Off Medical Bills 0.279\", \"Connecticut<br>Heart Disease Death Rate per 100,000142.1 Cancer Death Rate per 100,000 134.1<br>Poor Health0.138Poor Mental Health0.2037<br>No care due to cost 0.09197 % Uninsured 0.053396 % Trouble Paying Off Medical Bills 0.179\", \"Delaware<br>Heart Disease Death Rate per 100,000159.1 Cancer Death Rate per 100,000 159.4<br>Poor Health0.171Poor Mental Health0.20879999999999999<br>No care due to cost 0.10554 % Uninsured 0.057541 % Trouble Paying Off Medical Bills 0.284\", \"Hawaii<br>Heart Disease Death Rate per 100,000125.6 Cancer Death Rate per 100,000 123.5<br>Poor Health0.163Poor Mental Health0.189<br>No care due to cost 0.07346 % Uninsured 0.038517 % Trouble Paying Off Medical Bills 0.149\", \"Illinois<br>Heart Disease Death Rate per 100,000163.9 Cancer Death Rate per 100,000 153.5<br>Poor Health0.168Poor Mental Health0.2244<br>No care due to cost 0.11501 % Uninsured 0.070565 % Trouble Paying Off Medical Bills 0.287\", \"Indiana<br>Heart Disease Death Rate per 100,000180.7 Cancer Death Rate per 100,000 165.7<br>Poor Health0.193Poor Mental Health0.2531<br>No care due to cost 0.12174 % Uninsured 0.084664 % Trouble Paying Off Medical Bills 0.365\", \"Iowa<br>Heart Disease Death Rate per 100,000165.1 Cancer Death Rate per 100,000 155.3<br>Poor Health0.14200000000000002Poor Mental Health0.1965<br>No care due to cost 0.07745 % Uninsured 0.049429 % Trouble Paying Off Medical Bills 0.292\", \"Kentucky<br>Heart Disease Death Rate per 100,000198.3 Cancer Death Rate per 100,000 181.6<br>Poor Health0.235Poor Mental Health0.2638<br>No care due to cost 0.12638 % Uninsured 0.055742 % Trouble Paying Off Medical Bills 0.325\", \"Louisiana<br>Heart Disease Death Rate per 100,000212.2 Cancer Death Rate per 100,000 169.0<br>Poor Health0.221Poor Mental Health0.2749<br>No care due to cost 0.14825 % Uninsured 0.079368 % Trouble Paying Off Medical Bills 0.371\", \"Maryland<br>Heart Disease Death Rate per 100,000161.9 Cancer Death Rate per 100,000 149.9<br>Poor Health0.159Poor Mental Health0.2192<br>No care due to cost 0.11234 % Uninsured 0.059643 % Trouble Paying Off Medical Bills 0.202\", \"Massachusetts<br>Heart Disease Death Rate per 100,000131.5 Cancer Death Rate per 100,000 142.8<br>Poor Health0.14200000000000002Poor Mental Health0.2455<br>No care due to cost 0.08773 % Uninsured 0.02721 % Trouble Paying Off Medical Bills 0.212\", \"Michigan<br>Heart Disease Death Rate per 100,000195.0 Cancer Death Rate per 100,000 161.1<br>Poor Health0.192Poor Mental Health0.2559<br>No care due to cost 0.11794 % Uninsured 0.053887 % Trouble Paying Off Medical Bills 0.341\", \"Minnesota<br>Heart Disease Death Rate per 100,000119.0 Cancer Death Rate per 100,000 143.1<br>Poor Health0.135Poor Mental Health0.1987<br>No care due to cost 0.10027 % Uninsured 0.043484 % Trouble Paying Off Medical Bills 0.247\", \"Montana<br>Heart Disease Death Rate per 100,000163.2 Cancer Death Rate per 100,000 140.7<br>Poor Health0.15Poor Mental Health0.2082<br>No care due to cost 0.10056 % Uninsured 0.081167 % Trouble Paying Off Medical Bills 0.33\", \"Nevada<br>Heart Disease Death Rate per 100,000190.7 Cancer Death Rate per 100,000 146.5<br>Poor Health0.206Poor Mental Health0.2295<br>No care due to cost 0.14489 % Uninsured 0.113516 % Trouble Paying Off Medical Bills 0.318\", \"New Hampshire<br>Heart Disease Death Rate per 100,000151.0 Cancer Death Rate per 100,000 143.7<br>Poor Health0.134Poor Mental Health0.2228<br>No care due to cost 0.10584 % Uninsured 0.052075 % Trouble Paying Off Medical Bills 0.281\", \"New Jersey<br>Heart Disease Death Rate per 100,000163.0 Cancer Death Rate per 100,000 141.3<br>Poor Health0.167Poor Mental Health0.21389999999999998<br>No care due to cost 0.13053 % Uninsured 0.074196 % Trouble Paying Off Medical Bills 0.228\", \"New Mexico<br>Heart Disease Death Rate per 100,000148.2 Cancer Death Rate per 100,000 136.4<br>Poor Health0.216Poor Mental Health0.2421<br>No care due to cost 0.1301 % Uninsured 0.093357 % Trouble Paying Off Medical Bills 0.218\", \"New York<br>Heart Disease Death Rate per 100,000171.9 Cancer Death Rate per 100,000 138.2<br>Poor Health0.16999999999999998Poor Mental Health0.2031<br>No care due to cost 0.11038 % Uninsured 0.052948 % Trouble Paying Off Medical Bills 0.168\", \"North Dakota<br>Heart Disease Death Rate per 100,000140.0 Cancer Death Rate per 100,000 145.2<br>Poor Health0.138Poor Mental Health0.2165<br>No care due to cost 0.09274 % Uninsured 0.077042 % Trouble Paying Off Medical Bills 0.252\", \"Ohio<br>Heart Disease Death Rate per 100,000191.1 Cancer Death Rate per 100,000 165.2<br>Poor Health0.187Poor Mental Health0.24<br>No care due to cost 0.10197 % Uninsured 0.064757 % Trouble Paying Off Medical Bills 0.329\", \"Oregon<br>Heart Disease Death Rate per 100,000128.4 Cancer Death Rate per 100,000 150.6<br>Poor Health0.187Poor Mental Health0.257<br>No care due to cost 0.12641 % Uninsured 0.071976 % Trouble Paying Off Medical Bills 0.298\", \"Pennsylvania<br>Heart Disease Death Rate per 100,000176.1 Cancer Death Rate per 100,000 156.6<br>Poor Health0.189Poor Mental Health0.2548<br>No care due to cost 0.09442 % Uninsured 0.055889 % Trouble Paying Off Medical Bills 0.248\", \"Rhode Island<br>Heart Disease Death Rate per 100,000158.9 Cancer Death Rate per 100,000 151.6<br>Poor Health0.17300000000000001Poor Mental Health0.2259<br>No care due to cost 0.1051 % Uninsured 0.040295 % Trouble Paying Off Medical Bills 0.263\", \"Vermont<br>Heart Disease Death Rate per 100,000150.5 Cancer Death Rate per 100,000 156.0<br>Poor Health0.138Poor Mental Health0.2243<br>No care due to cost 0.07648 % Uninsured 0.040721 % Trouble Paying Off Medical Bills 0.265\", \"Washington<br>Heart Disease Death Rate per 100,000135.4 Cancer Death Rate per 100,000 145.3<br>Poor Health0.157Poor Mental Health0.2334<br>No care due to cost 0.10957 % Uninsured 0.065377 % Trouble Paying Off Medical Bills 0.264\", \"West Virginia<br>Heart Disease Death Rate per 100,000196.4 Cancer Death Rate per 100,000 179.5<br>Poor Health0.263Poor Mental Health0.29090000000000005<br>No care due to cost 0.1491 % Uninsured 0.061747 % Trouble Paying Off Medical Bills 0.39\", \"Idaho<br>Heart Disease Death Rate per 100,000157.9 Cancer Death Rate per 100,000 149.5<br>Poor Health0.159Poor Mental Health0.2406<br>No care due to cost 0.14964 % Uninsured 0.11149 % Trouble Paying Off Medical Bills 0.356\", \"Maine<br>Heart Disease Death Rate per 100,000147.0 Cancer Death Rate per 100,000 162.1<br>Poor Health0.18Poor Mental Health0.2455<br>No care due to cost 0.11768 % Uninsured 0.078497 % Trouble Paying Off Medical Bills 0.352\", \"Nebraska<br>Heart Disease Death Rate per 100,000145.7 Cancer Death Rate per 100,000 150.5<br>Poor Health0.14500000000000002Poor Mental Health0.2047<br>No care due to cost 0.11818 % Uninsured 0.084567 % Trouble Paying Off Medical Bills 0.379\", \"Oklahoma<br>Heart Disease Death Rate per 100,000228.5 Cancer Death Rate per 100,000 178.1<br>Poor Health0.217Poor Mental Health0.2556<br>No care due to cost 0.14904 % Uninsured 0.136629 % Trouble Paying Off Medical Bills 0.405\", \"Utah<br>Heart Disease Death Rate per 100,000146.4 Cancer Death Rate per 100,000 120.0<br>Poor Health0.14500000000000002Poor Mental Health0.2453<br>No care due to cost 0.13042 % Uninsured 0.089924 % Trouble Paying Off Medical Bills 0.341\", \"Virginia<br>Heart Disease Death Rate per 100,000147.9 Cancer Death Rate per 100,000 149.3<br>Poor Health0.174Poor Mental Health0.22099999999999997<br>No care due to cost 0.13024 % Uninsured 0.086833 % Trouble Paying Off Medical Bills 0.286\", \"Alabama<br>Heart Disease Death Rate per 100,000224.7 Cancer Death Rate per 100,000 170.4<br>Poor Health0.22899999999999998Poor Mental Health0.2587<br>No care due to cost 0.1621 % Uninsured 0.101714 % Trouble Paying Off Medical Bills 0.342\", \"Florida<br>Heart Disease Death Rate per 100,000143.1 Cancer Death Rate per 100,000 141.7<br>Poor Health0.20800000000000002Poor Mental Health0.2087<br>No care due to cost 0.16176 % Uninsured 0.131528 % Trouble Paying Off Medical Bills 0.284\", \"Georgia<br>Heart Disease Death Rate per 100,000175.8 Cancer Death Rate per 100,000 152.4<br>Poor Health0.191Poor Mental Health0.2264<br>No care due to cost 0.18199 % Uninsured 0.137747 % Trouble Paying Off Medical Bills 0.336\", \"Kansas<br>Heart Disease Death Rate per 100,000158.9 Cancer Death Rate per 100,000 156.4<br>Poor Health0.16999999999999998Poor Mental Health0.2192<br>No care due to cost 0.12126 % Uninsured 0.087204 % Trouble Paying Off Medical Bills 0.341\", \"Mississippi<br>Heart Disease Death Rate per 100,000222.1 Cancer Death Rate per 100,000 179.7<br>Poor Health0.23299999999999998Poor Mental Health0.23870000000000002<br>No care due to cost 0.17564 % Uninsured 0.122517 % Trouble Paying Off Medical Bills 0.411\", \"Missouri<br>Heart Disease Death Rate per 100,000188.4 Cancer Death Rate per 100,000 165.3<br>Poor Health0.204Poor Mental Health0.2363<br>No care due to cost 0.13286 % Uninsured 0.09379 % Trouble Paying Off Medical Bills 0.366\", \"North Carolina<br>Heart Disease Death Rate per 100,000155.5 Cancer Death Rate per 100,000 154.2<br>Poor Health0.191Poor Mental Health0.2151<br>No care due to cost 0.15054 % Uninsured 0.108529 % Trouble Paying Off Medical Bills 0.343\", \"South Carolina<br>Heart Disease Death Rate per 100,000167.0 Cancer Death Rate per 100,000 157.3<br>Poor Health0.189Poor Mental Health0.24469999999999997<br>No care due to cost 0.15796 % Uninsured 0.104895 % Trouble Paying Off Medical Bills 0.352\", \"South Dakota<br>Heart Disease Death Rate per 100,000156.3 Cancer Death Rate per 100,000 145.2<br>Poor Health0.147Poor Mental Health0.1859<br>No care due to cost 0.10505 % Uninsured 0.093584 % Trouble Paying Off Medical Bills 0.266\", \"Tennessee<br>Heart Disease Death Rate per 100,000202.4 Cancer Death Rate per 100,000 168.0<br>Poor Health0.22699999999999998Poor Mental Health0.2634<br>No care due to cost 0.15812 % Uninsured 0.101776 % Trouble Paying Off Medical Bills 0.313\", \"Texas<br>Heart Disease Death Rate per 100,000170.0 Cancer Death Rate per 100,000 142.9<br>Poor Health0.191Poor Mental Health0.2044<br>No care due to cost 0.16847 % Uninsured 0.176901 % Trouble Paying Off Medical Bills 0.337\", \"Wisconsin<br>Heart Disease Death Rate per 100,000157.8 Cancer Death Rate per 100,000 151.5<br>Poor Health0.156Poor Mental Health0.2238<br>No care due to cost 0.09925 % Uninsured 0.055387 % Trouble Paying Off Medical Bills 0.293\", \"Wyoming<br>Heart Disease Death Rate per 100,000152.7 Cancer Death Rate per 100,000 140.6<br>Poor Health0.159Poor Mental Health0.20040000000000002<br>No care due to cost 0.13168 % Uninsured 0.105625 % Trouble Paying Off Medical Bills 0.436\"], \"type\": \"choropleth\", \"z\": [\"Adopted\", \"Adopted\", \"Adopted\", \"Adopted\", \"Adopted\", \"Adopted\", \"Adopted\", \"Adopted\", \"Adopted\", \"Adopted\", \"Adopted\", \"Adopted\", \"Adopted\", \"Adopted\", \"Adopted\", \"Adopted\", \"Adopted\", \"Adopted\", \"Adopted\", \"Adopted\", \"Adopted\", \"Adopted\", \"Adopted\", \"Adopted\", \"Adopted\", \"Adopted\", \"Adopted\", \"Adopted\", \"Adopted\", \"Adopted\", \"Adopted\", \"Adopted, not implemented\", \"Adopted, not implemented\", \"Adopted, not implemented\", \"Adopted, not implemented\", \"Adopted, not implemented\", \"Adopted, not implemented\", \"Not Adopted\", \"Not Adopted\", \"Not Adopted\", \"Not Adopted\", \"Not Adopted\", \"Not Adopted\", \"Not Adopted\", \"Not Adopted\", \"Not Adopted\", \"Not Adopted\", \"Not Adopted\", \"Not Adopted\", \"Not Adopted\"]}],\n",
       "                        {\"geo\": {\"lakecolor\": \"rgb(255, 255, 255)\", \"projection\": {\"type\": \"albers usa\"}, \"scope\": \"usa\", \"showlakes\": true}, \"template\": {\"data\": {\"bar\": [{\"error_x\": {\"color\": \"#2a3f5f\"}, \"error_y\": {\"color\": \"#2a3f5f\"}, \"marker\": {\"line\": {\"color\": \"#E5ECF6\", \"width\": 0.5}}, \"type\": \"bar\"}], \"barpolar\": [{\"marker\": {\"line\": {\"color\": \"#E5ECF6\", \"width\": 0.5}}, \"type\": \"barpolar\"}], \"carpet\": [{\"aaxis\": {\"endlinecolor\": \"#2a3f5f\", \"gridcolor\": \"white\", \"linecolor\": \"white\", \"minorgridcolor\": \"white\", \"startlinecolor\": \"#2a3f5f\"}, \"baxis\": {\"endlinecolor\": \"#2a3f5f\", \"gridcolor\": \"white\", \"linecolor\": \"white\", \"minorgridcolor\": \"white\", \"startlinecolor\": \"#2a3f5f\"}, \"type\": \"carpet\"}], \"choropleth\": [{\"colorbar\": {\"outlinewidth\": 0, \"ticks\": \"\"}, \"type\": \"choropleth\"}], \"contour\": [{\"colorbar\": {\"outlinewidth\": 0, \"ticks\": \"\"}, \"colorscale\": [[0.0, \"#0d0887\"], [0.1111111111111111, \"#46039f\"], [0.2222222222222222, \"#7201a8\"], [0.3333333333333333, \"#9c179e\"], [0.4444444444444444, \"#bd3786\"], [0.5555555555555556, \"#d8576b\"], [0.6666666666666666, \"#ed7953\"], [0.7777777777777778, \"#fb9f3a\"], [0.8888888888888888, \"#fdca26\"], [1.0, \"#f0f921\"]], \"type\": \"contour\"}], \"contourcarpet\": [{\"colorbar\": {\"outlinewidth\": 0, \"ticks\": \"\"}, \"type\": \"contourcarpet\"}], \"heatmap\": [{\"colorbar\": {\"outlinewidth\": 0, \"ticks\": \"\"}, \"colorscale\": [[0.0, \"#0d0887\"], [0.1111111111111111, \"#46039f\"], [0.2222222222222222, \"#7201a8\"], [0.3333333333333333, \"#9c179e\"], [0.4444444444444444, \"#bd3786\"], [0.5555555555555556, \"#d8576b\"], [0.6666666666666666, \"#ed7953\"], [0.7777777777777778, \"#fb9f3a\"], [0.8888888888888888, \"#fdca26\"], [1.0, \"#f0f921\"]], \"type\": \"heatmap\"}], \"heatmapgl\": [{\"colorbar\": {\"outlinewidth\": 0, \"ticks\": \"\"}, \"colorscale\": [[0.0, \"#0d0887\"], [0.1111111111111111, \"#46039f\"], [0.2222222222222222, \"#7201a8\"], [0.3333333333333333, \"#9c179e\"], [0.4444444444444444, \"#bd3786\"], [0.5555555555555556, \"#d8576b\"], [0.6666666666666666, \"#ed7953\"], [0.7777777777777778, \"#fb9f3a\"], [0.8888888888888888, \"#fdca26\"], [1.0, \"#f0f921\"]], \"type\": \"heatmapgl\"}], \"histogram\": [{\"marker\": {\"colorbar\": {\"outlinewidth\": 0, \"ticks\": \"\"}}, \"type\": \"histogram\"}], \"histogram2d\": [{\"colorbar\": {\"outlinewidth\": 0, \"ticks\": \"\"}, \"colorscale\": [[0.0, \"#0d0887\"], [0.1111111111111111, \"#46039f\"], [0.2222222222222222, \"#7201a8\"], [0.3333333333333333, \"#9c179e\"], [0.4444444444444444, \"#bd3786\"], [0.5555555555555556, \"#d8576b\"], [0.6666666666666666, \"#ed7953\"], [0.7777777777777778, \"#fb9f3a\"], [0.8888888888888888, \"#fdca26\"], [1.0, \"#f0f921\"]], \"type\": \"histogram2d\"}], \"histogram2dcontour\": [{\"colorbar\": {\"outlinewidth\": 0, \"ticks\": \"\"}, \"colorscale\": [[0.0, \"#0d0887\"], [0.1111111111111111, \"#46039f\"], [0.2222222222222222, \"#7201a8\"], [0.3333333333333333, \"#9c179e\"], [0.4444444444444444, \"#bd3786\"], [0.5555555555555556, \"#d8576b\"], [0.6666666666666666, \"#ed7953\"], [0.7777777777777778, \"#fb9f3a\"], [0.8888888888888888, \"#fdca26\"], [1.0, \"#f0f921\"]], \"type\": \"histogram2dcontour\"}], \"mesh3d\": [{\"colorbar\": {\"outlinewidth\": 0, \"ticks\": \"\"}, \"type\": \"mesh3d\"}], \"parcoords\": [{\"line\": {\"colorbar\": {\"outlinewidth\": 0, \"ticks\": \"\"}}, \"type\": \"parcoords\"}], \"pie\": [{\"automargin\": true, \"type\": \"pie\"}], \"scatter\": [{\"marker\": {\"colorbar\": {\"outlinewidth\": 0, \"ticks\": \"\"}}, \"type\": \"scatter\"}], \"scatter3d\": [{\"line\": {\"colorbar\": {\"outlinewidth\": 0, \"ticks\": \"\"}}, \"marker\": {\"colorbar\": {\"outlinewidth\": 0, \"ticks\": \"\"}}, \"type\": \"scatter3d\"}], \"scattercarpet\": [{\"marker\": {\"colorbar\": {\"outlinewidth\": 0, \"ticks\": \"\"}}, \"type\": \"scattercarpet\"}], \"scattergeo\": [{\"marker\": {\"colorbar\": {\"outlinewidth\": 0, \"ticks\": \"\"}}, \"type\": \"scattergeo\"}], \"scattergl\": [{\"marker\": {\"colorbar\": {\"outlinewidth\": 0, \"ticks\": \"\"}}, \"type\": \"scattergl\"}], \"scattermapbox\": [{\"marker\": {\"colorbar\": {\"outlinewidth\": 0, \"ticks\": \"\"}}, \"type\": \"scattermapbox\"}], \"scatterpolar\": [{\"marker\": {\"colorbar\": {\"outlinewidth\": 0, \"ticks\": \"\"}}, \"type\": \"scatterpolar\"}], \"scatterpolargl\": [{\"marker\": {\"colorbar\": {\"outlinewidth\": 0, \"ticks\": \"\"}}, \"type\": \"scatterpolargl\"}], \"scatterternary\": [{\"marker\": {\"colorbar\": {\"outlinewidth\": 0, \"ticks\": \"\"}}, \"type\": \"scatterternary\"}], \"surface\": [{\"colorbar\": {\"outlinewidth\": 0, \"ticks\": \"\"}, \"colorscale\": [[0.0, \"#0d0887\"], [0.1111111111111111, \"#46039f\"], [0.2222222222222222, \"#7201a8\"], [0.3333333333333333, \"#9c179e\"], [0.4444444444444444, \"#bd3786\"], [0.5555555555555556, \"#d8576b\"], [0.6666666666666666, \"#ed7953\"], [0.7777777777777778, \"#fb9f3a\"], [0.8888888888888888, \"#fdca26\"], [1.0, \"#f0f921\"]], \"type\": \"surface\"}], \"table\": [{\"cells\": {\"fill\": {\"color\": \"#EBF0F8\"}, \"line\": {\"color\": \"white\"}}, \"header\": {\"fill\": {\"color\": \"#C8D4E3\"}, \"line\": {\"color\": \"white\"}}, \"type\": \"table\"}]}, \"layout\": {\"annotationdefaults\": {\"arrowcolor\": \"#2a3f5f\", \"arrowhead\": 0, \"arrowwidth\": 1}, \"coloraxis\": {\"colorbar\": {\"outlinewidth\": 0, \"ticks\": \"\"}}, \"colorscale\": {\"diverging\": [[0, \"#8e0152\"], [0.1, \"#c51b7d\"], [0.2, \"#de77ae\"], [0.3, \"#f1b6da\"], [0.4, \"#fde0ef\"], [0.5, \"#f7f7f7\"], [0.6, \"#e6f5d0\"], [0.7, \"#b8e186\"], [0.8, \"#7fbc41\"], [0.9, \"#4d9221\"], [1, \"#276419\"]], \"sequential\": [[0.0, \"#0d0887\"], [0.1111111111111111, \"#46039f\"], [0.2222222222222222, \"#7201a8\"], [0.3333333333333333, \"#9c179e\"], [0.4444444444444444, \"#bd3786\"], [0.5555555555555556, \"#d8576b\"], [0.6666666666666666, \"#ed7953\"], [0.7777777777777778, \"#fb9f3a\"], [0.8888888888888888, \"#fdca26\"], [1.0, \"#f0f921\"]], \"sequentialminus\": [[0.0, \"#0d0887\"], [0.1111111111111111, \"#46039f\"], [0.2222222222222222, \"#7201a8\"], [0.3333333333333333, \"#9c179e\"], [0.4444444444444444, \"#bd3786\"], [0.5555555555555556, \"#d8576b\"], [0.6666666666666666, \"#ed7953\"], [0.7777777777777778, \"#fb9f3a\"], [0.8888888888888888, \"#fdca26\"], [1.0, \"#f0f921\"]]}, \"colorway\": [\"#636efa\", \"#EF553B\", \"#00cc96\", \"#ab63fa\", \"#FFA15A\", \"#19d3f3\", \"#FF6692\", \"#B6E880\", \"#FF97FF\", \"#FECB52\"], \"font\": {\"color\": \"#2a3f5f\"}, \"geo\": {\"bgcolor\": \"white\", \"lakecolor\": \"white\", \"landcolor\": \"#E5ECF6\", \"showlakes\": true, \"showland\": true, \"subunitcolor\": \"white\"}, \"hoverlabel\": {\"align\": \"left\"}, \"hovermode\": \"closest\", \"mapbox\": {\"style\": \"light\"}, \"paper_bgcolor\": \"white\", \"plot_bgcolor\": \"#E5ECF6\", \"polar\": {\"angularaxis\": {\"gridcolor\": \"white\", \"linecolor\": \"white\", \"ticks\": \"\"}, \"bgcolor\": \"#E5ECF6\", \"radialaxis\": {\"gridcolor\": \"white\", \"linecolor\": \"white\", \"ticks\": \"\"}}, \"scene\": {\"xaxis\": {\"backgroundcolor\": \"#E5ECF6\", \"gridcolor\": \"white\", \"gridwidth\": 2, \"linecolor\": \"white\", \"showbackground\": true, \"ticks\": \"\", \"zerolinecolor\": \"white\"}, \"yaxis\": {\"backgroundcolor\": \"#E5ECF6\", \"gridcolor\": \"white\", \"gridwidth\": 2, \"linecolor\": \"white\", \"showbackground\": true, \"ticks\": \"\", \"zerolinecolor\": \"white\"}, \"zaxis\": {\"backgroundcolor\": \"#E5ECF6\", \"gridcolor\": \"white\", \"gridwidth\": 2, \"linecolor\": \"white\", \"showbackground\": true, \"ticks\": \"\", \"zerolinecolor\": \"white\"}}, \"shapedefaults\": {\"line\": {\"color\": \"#2a3f5f\"}}, \"ternary\": {\"aaxis\": {\"gridcolor\": \"white\", \"linecolor\": \"white\", \"ticks\": \"\"}, \"baxis\": {\"gridcolor\": \"white\", \"linecolor\": \"white\", \"ticks\": \"\"}, \"bgcolor\": \"#E5ECF6\", \"caxis\": {\"gridcolor\": \"white\", \"linecolor\": \"white\", \"ticks\": \"\"}}, \"title\": {\"x\": 0.05}, \"xaxis\": {\"automargin\": true, \"gridcolor\": \"white\", \"linecolor\": \"white\", \"ticks\": \"\", \"title\": {\"standoff\": 15}, \"zerolinecolor\": \"white\", \"zerolinewidth\": 2}, \"yaxis\": {\"automargin\": true, \"gridcolor\": \"white\", \"linecolor\": \"white\", \"ticks\": \"\", \"title\": {\"standoff\": 15}, \"zerolinecolor\": \"white\", \"zerolinewidth\": 2}}}, \"title\": {\"text\": \"Medicare Expansion Adoptiong by State\"}},\n",
       "                        {\"responsive\": true}\n",
       "                    ).then(function(){\n",
       "                            \n",
       "var gd = document.getElementById('82cfb3a0-dce4-453c-bf95-5a1fe71957af');\n",
       "var x = new MutationObserver(function (mutations, observer) {{\n",
       "        var display = window.getComputedStyle(gd).display;\n",
       "        if (!display || display === 'none') {{\n",
       "            console.log([gd, 'removed!']);\n",
       "            Plotly.purge(gd);\n",
       "            observer.disconnect();\n",
       "        }}\n",
       "}});\n",
       "\n",
       "// Listen for the removal of the full notebook cells\n",
       "var notebookContainer = gd.closest('#notebook-container');\n",
       "if (notebookContainer) {{\n",
       "    x.observe(notebookContainer, {childList: true});\n",
       "}}\n",
       "\n",
       "// Listen for the clearing of the current output cell\n",
       "var outputEl = gd.closest('.output');\n",
       "if (outputEl) {{\n",
       "    x.observe(outputEl, {childList: true});\n",
       "}}\n",
       "\n",
       "                        })\n",
       "                };\n",
       "                });\n",
       "            </script>\n",
       "        </div>"
      ]
     },
     "metadata": {},
     "output_type": "display_data"
    }
   ],
   "source": [
    "\n",
    "df['text'] = df['State'] + '<br>' + \\\n",
    "    'Heart Disease Death Rate per 100,000' + df['Heart Disease Death Rate per 100,000'] + ' Cancer Death Rate per 100,000 ' + df['Cancer Death Rate per 100,000'] + '<br>' + \\\n",
    "    'Poor Health' + df['Poor Health'] + 'Poor Mental Health' + df['Poor Mental Health'] + '<br>' + \\\n",
    "    'No care due to cost ' + df['No care due to cost'] + ' % Uninsured ' + df['2018__Uninsured'] + ' % Trouble Paying Off Medical Bills ' + df['Trouble Paying Off Medical Bills']\n",
    "\n",
    "fig = go.Figure(data=go.Choropleth(\n",
    "    locations=df['code'],\n",
    "    z=df['Medicare Expansion Adoption'].astype(str),\n",
    "    locationmode='USA-states',\n",
    "    colorscale='Greens',\n",
    "    autocolorscale=True,\n",
    "    text=df['text'], # hover text\n",
    "    marker_line_color='white', # line markers between states\n",
    "    colorbar_title=\"Adoption\"\n",
    "))\n",
    "\n",
    "fig.update_layout(\n",
    "    title_text='Medicare Expansion Adoptiong by State',\n",
    "    geo = dict(\n",
    "        scope='usa',\n",
    "        projection=go.layout.geo.Projection(type = 'albers usa'),\n",
    "        showlakes=True, # lakes\n",
    "        lakecolor='rgb(255, 255, 255)'),\n",
    ")\n",
    "\n",
    "fig.show()"
   ]
  },
  {
   "cell_type": "code",
   "execution_count": 9,
   "metadata": {},
   "outputs": [],
   "source": [
    "import plotly.graph_objects as go\n",
    "\n",
    "import pandas as pd\n",
    "df = pd.read_csv('https://raw.githubusercontent.com/plotly/datasets/master/2011_us_ag_exports.csv')"
   ]
  },
  {
   "cell_type": "code",
   "execution_count": 10,
   "metadata": {},
   "outputs": [
    {
     "data": {
      "text/html": [
       "<div>\n",
       "<style scoped>\n",
       "    .dataframe tbody tr th:only-of-type {\n",
       "        vertical-align: middle;\n",
       "    }\n",
       "\n",
       "    .dataframe tbody tr th {\n",
       "        vertical-align: top;\n",
       "    }\n",
       "\n",
       "    .dataframe thead th {\n",
       "        text-align: right;\n",
       "    }\n",
       "</style>\n",
       "<table border=\"1\" class=\"dataframe\">\n",
       "  <thead>\n",
       "    <tr style=\"text-align: right;\">\n",
       "      <th></th>\n",
       "      <th>code</th>\n",
       "      <th>state</th>\n",
       "      <th>category</th>\n",
       "      <th>total exports</th>\n",
       "      <th>beef</th>\n",
       "      <th>pork</th>\n",
       "      <th>poultry</th>\n",
       "      <th>dairy</th>\n",
       "      <th>fruits fresh</th>\n",
       "      <th>fruits proc</th>\n",
       "      <th>total fruits</th>\n",
       "      <th>veggies fresh</th>\n",
       "      <th>veggies proc</th>\n",
       "      <th>total veggies</th>\n",
       "      <th>corn</th>\n",
       "      <th>wheat</th>\n",
       "      <th>cotton</th>\n",
       "    </tr>\n",
       "  </thead>\n",
       "  <tbody>\n",
       "    <tr>\n",
       "      <th>0</th>\n",
       "      <td>AL</td>\n",
       "      <td>Alabama</td>\n",
       "      <td>state</td>\n",
       "      <td>1390.63</td>\n",
       "      <td>34.4</td>\n",
       "      <td>10.6</td>\n",
       "      <td>481.0</td>\n",
       "      <td>4.06</td>\n",
       "      <td>8.0</td>\n",
       "      <td>17.1</td>\n",
       "      <td>25.11</td>\n",
       "      <td>5.5</td>\n",
       "      <td>8.9</td>\n",
       "      <td>14.33</td>\n",
       "      <td>34.9</td>\n",
       "      <td>70.0</td>\n",
       "      <td>317.61</td>\n",
       "    </tr>\n",
       "    <tr>\n",
       "      <th>1</th>\n",
       "      <td>AK</td>\n",
       "      <td>Alaska</td>\n",
       "      <td>state</td>\n",
       "      <td>13.31</td>\n",
       "      <td>0.2</td>\n",
       "      <td>0.1</td>\n",
       "      <td>0.0</td>\n",
       "      <td>0.19</td>\n",
       "      <td>0.0</td>\n",
       "      <td>0.0</td>\n",
       "      <td>0.00</td>\n",
       "      <td>0.6</td>\n",
       "      <td>1.0</td>\n",
       "      <td>1.56</td>\n",
       "      <td>0.0</td>\n",
       "      <td>0.0</td>\n",
       "      <td>0.00</td>\n",
       "    </tr>\n",
       "    <tr>\n",
       "      <th>2</th>\n",
       "      <td>AZ</td>\n",
       "      <td>Arizona</td>\n",
       "      <td>state</td>\n",
       "      <td>1463.17</td>\n",
       "      <td>71.3</td>\n",
       "      <td>17.9</td>\n",
       "      <td>0.0</td>\n",
       "      <td>105.48</td>\n",
       "      <td>19.3</td>\n",
       "      <td>41.0</td>\n",
       "      <td>60.27</td>\n",
       "      <td>147.5</td>\n",
       "      <td>239.4</td>\n",
       "      <td>386.91</td>\n",
       "      <td>7.3</td>\n",
       "      <td>48.7</td>\n",
       "      <td>423.95</td>\n",
       "    </tr>\n",
       "    <tr>\n",
       "      <th>3</th>\n",
       "      <td>AR</td>\n",
       "      <td>Arkansas</td>\n",
       "      <td>state</td>\n",
       "      <td>3586.02</td>\n",
       "      <td>53.2</td>\n",
       "      <td>29.4</td>\n",
       "      <td>562.9</td>\n",
       "      <td>3.53</td>\n",
       "      <td>2.2</td>\n",
       "      <td>4.7</td>\n",
       "      <td>6.88</td>\n",
       "      <td>4.4</td>\n",
       "      <td>7.1</td>\n",
       "      <td>11.45</td>\n",
       "      <td>69.5</td>\n",
       "      <td>114.5</td>\n",
       "      <td>665.44</td>\n",
       "    </tr>\n",
       "    <tr>\n",
       "      <th>4</th>\n",
       "      <td>CA</td>\n",
       "      <td>California</td>\n",
       "      <td>state</td>\n",
       "      <td>16472.88</td>\n",
       "      <td>228.7</td>\n",
       "      <td>11.1</td>\n",
       "      <td>225.4</td>\n",
       "      <td>929.95</td>\n",
       "      <td>2791.8</td>\n",
       "      <td>5944.6</td>\n",
       "      <td>8736.40</td>\n",
       "      <td>803.2</td>\n",
       "      <td>1303.5</td>\n",
       "      <td>2106.79</td>\n",
       "      <td>34.6</td>\n",
       "      <td>249.3</td>\n",
       "      <td>1064.95</td>\n",
       "    </tr>\n",
       "  </tbody>\n",
       "</table>\n",
       "</div>"
      ],
      "text/plain": [
       "  code       state category  total exports   beef  pork  poultry   dairy  \\\n",
       "0   AL     Alabama    state        1390.63   34.4  10.6    481.0    4.06   \n",
       "1   AK      Alaska    state          13.31    0.2   0.1      0.0    0.19   \n",
       "2   AZ     Arizona    state        1463.17   71.3  17.9      0.0  105.48   \n",
       "3   AR    Arkansas    state        3586.02   53.2  29.4    562.9    3.53   \n",
       "4   CA  California    state       16472.88  228.7  11.1    225.4  929.95   \n",
       "\n",
       "   fruits fresh  fruits proc  total fruits  veggies fresh  veggies proc  \\\n",
       "0           8.0         17.1         25.11            5.5           8.9   \n",
       "1           0.0          0.0          0.00            0.6           1.0   \n",
       "2          19.3         41.0         60.27          147.5         239.4   \n",
       "3           2.2          4.7          6.88            4.4           7.1   \n",
       "4        2791.8       5944.6       8736.40          803.2        1303.5   \n",
       "\n",
       "   total veggies  corn  wheat   cotton  \n",
       "0          14.33  34.9   70.0   317.61  \n",
       "1           1.56   0.0    0.0     0.00  \n",
       "2         386.91   7.3   48.7   423.95  \n",
       "3          11.45  69.5  114.5   665.44  \n",
       "4        2106.79  34.6  249.3  1064.95  "
      ]
     },
     "execution_count": 10,
     "metadata": {},
     "output_type": "execute_result"
    }
   ],
   "source": [
    "df.head()"
   ]
  },
  {
   "cell_type": "code",
   "execution_count": 19,
   "metadata": {},
   "outputs": [
    {
     "ename": "NameError",
     "evalue": "name 'states' is not defined",
     "output_type": "error",
     "traceback": [
      "\u001b[0;31m---------------------------------------------------------------------------\u001b[0m",
      "\u001b[0;31mNameError\u001b[0m                                 Traceback (most recent call last)",
      "\u001b[0;32m<ipython-input-19-b26cc411e3cd>\u001b[0m in \u001b[0;36m<module>\u001b[0;34m\u001b[0m\n\u001b[1;32m      1\u001b[0m \u001b[0;32mimport\u001b[0m \u001b[0mplotly\u001b[0m\u001b[0;34m.\u001b[0m\u001b[0mexpress\u001b[0m \u001b[0;32mas\u001b[0m \u001b[0mpx\u001b[0m\u001b[0;34m\u001b[0m\u001b[0;34m\u001b[0m\u001b[0m\n\u001b[1;32m      2\u001b[0m \u001b[0;34m\u001b[0m\u001b[0m\n\u001b[0;32m----> 3\u001b[0;31m fig = px.choropleth(df, geojson=states, locations='code', color='unemp',\n\u001b[0m\u001b[1;32m      4\u001b[0m                            \u001b[0mcolor_continuous_scale\u001b[0m\u001b[0;34m=\u001b[0m\u001b[0;34m\"Viridis\"\u001b[0m\u001b[0;34m,\u001b[0m\u001b[0;34m\u001b[0m\u001b[0;34m\u001b[0m\u001b[0m\n\u001b[1;32m      5\u001b[0m                            \u001b[0mrange_color\u001b[0m\u001b[0;34m=\u001b[0m\u001b[0;34m(\u001b[0m\u001b[0;36m0\u001b[0m\u001b[0;34m,\u001b[0m \u001b[0;36m12\u001b[0m\u001b[0;34m)\u001b[0m\u001b[0;34m,\u001b[0m\u001b[0;34m\u001b[0m\u001b[0;34m\u001b[0m\u001b[0m\n",
      "\u001b[0;31mNameError\u001b[0m: name 'states' is not defined"
     ]
    }
   ],
   "source": [
    "import plotly.express as px\n",
    "\n",
    "fig = px.choropleth(df, geojson=states, locations='code', color='unemp',\n",
    "                           color_continuous_scale=\"Viridis\",\n",
    "                           range_color=(0, 12),\n",
    "                           scope=\"usa\",\n",
    "                           labels={'Medicare Expansion Adoption':'Medicare Expansion Adoption'}\n",
    "                          )\n",
    "fig.update_layout(margin={\"r\":0,\"t\":0,\"l\":0,\"b\":0})\n",
    "fig.show()"
   ]
  },
  {
   "cell_type": "code",
   "execution_count": null,
   "metadata": {},
   "outputs": [],
   "source": []
  }
 ],
 "metadata": {
  "kernelspec": {
   "display_name": "Python 3",
   "language": "python",
   "name": "python3"
  },
  "language_info": {
   "codemirror_mode": {
    "name": "ipython",
    "version": 3
   },
   "file_extension": ".py",
   "mimetype": "text/x-python",
   "name": "python",
   "nbconvert_exporter": "python",
   "pygments_lexer": "ipython3",
   "version": "3.7.6"
  }
 },
 "nbformat": 4,
 "nbformat_minor": 4
}
