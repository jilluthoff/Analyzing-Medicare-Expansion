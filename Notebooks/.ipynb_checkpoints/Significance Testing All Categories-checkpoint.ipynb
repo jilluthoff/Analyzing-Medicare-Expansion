{
 "cells": [
  {
   "cell_type": "code",
   "execution_count": 9,
   "metadata": {},
   "outputs": [],
   "source": [
    "import pandas as pd\n",
    "import matplotlib.pyplot as plt\n",
    "import numpy as np\n",
    "from scipy import stats\n",
    "%matplotlib inline\n",
    "plt.style.use('ggplot')"
   ]
  },
  {
   "cell_type": "code",
   "execution_count": 12,
   "metadata": {
    "scrolled": true
   },
   "outputs": [
    {
     "data": {
      "text/plain": [
       "Index(['State', 'code', 'Medicare Expansion Adoption', 'Expanded',\n",
       "       '% overweight or obese', '% Adults, Smoke',\n",
       "       'Heart Disease Death Rate per 100,000', 'Cancer Death Rate per 100,000',\n",
       "       'Stroke Death Rate per 100,000', 'Mortality Rate per 100,000',\n",
       "       'Suicide Rate per 100,000', 'Life Expectancy', '% Adults, Health Poor',\n",
       "       '% Adults, Health Fair', '% Adults, Health Good',\n",
       "       '% Adults, Health Very Good', '% Adults, Health Excellent',\n",
       "       'Excellent Mental Health (0 Poor days)',\n",
       "       'Good Mental Health (1-4 Poor Days)',\n",
       "       'Fair Mental Health (5-13 Days Poor)',\n",
       "       'Bad Mental Health (14+ Days Poor)', '% Adults, No care due to cost',\n",
       "       '% Adults, Trouble Paying Medical Bills', '% Adults Uninsured'],\n",
       "      dtype='object')"
      ]
     },
     "execution_count": 12,
     "metadata": {},
     "output_type": "execute_result"
    }
   ],
   "source": [
    "#Create dataframe from excel file for all states, all data categories\n",
    "overall_data = pd.read_excel('~/github/gal/Analyzing-Medicare-Expansion/data2/All States All Data Collected.xlsx')\n",
    "\n",
    "#Subset dataframe to only include states that have expanded Medicare\n",
    "mask = overall_data.Expanded == 'Expanded'\n",
    "expanded = overall_data[mask]\n",
    "\n",
    "#Subset dataframe to only include states that have not expanded Medicare\n",
    "mask = overall_data.Expanded != 'Expanded'\n",
    "not_expanded = overall_data[mask]\n",
    "\n",
    "overall_data.columns"
   ]
  },
  {
   "cell_type": "code",
   "execution_count": 14,
   "metadata": {},
   "outputs": [],
   "source": [
    "#Get sample means\n",
    "\n",
    "overweight_mean_expanded = expanded['% overweight or obese'].mean()\n",
    "smoke_mean_expanded = expanded['% Adults, Smoke'].mean()\n",
    "hd_mean_expanded= expanded['Heart Disease Death Rate per 100,000'].mean()\n",
    "cancer_mean_expanded = expanded['Cancer Death Rate per 100,000'].mean()\n",
    "stoke_mean_expanded = expanded['Stroke Death Rate per 100,000'].mean()\n",
    "mortality_mean_expanded = expanded['Mortality Rate per 100,000'].mean()\n",
    "suicide_mean_expanded = expanded['Suicide Rate per 100,000'].mean()\n",
    "life_exp_mean_expanded = expanded['Life Expectancy'].mean()\n",
    "poor_health_mean_expanded = expanded['% Adults, Health Poor'].mean()\n",
    "fair_health_mean_expanded = expanded['% Adults, Health Fair'].mean()\n",
    "good_health_mean_expanded = expanded['% Adults, Health Good'].mean()\n",
    "vg_health_mean_expanded = expanded['% Adults, Health Very Good'].mean()\n",
    "ex_health_mean_expanded = expanded['% Adults, Health Excellent'].mean()\n",
    "ex_mentalh_mean_expanded = expanded['Excellent Mental Health (0 Poor days)'].mean()\n",
    "good_mental_mean_expanded = expanded['Good Mental Health (1-4 Poor Days)'].mean()\n",
    "fair_mental_mean_expanded = expanded['Fair Mental Health (5-13 Days Poor)'].mean()\n",
    "bad_mental_mean_expanded = expanded['Bad Mental Health (14+ Days Poor)'].mean()\n",
    "no_care_mean_expanded = expanded['% Adults, No care due to cost'].mean()\n",
    "trouble_mean_expanded = expanded['% Adults, Trouble Paying Medical Bills'].mean()\n",
    "uninsured_mean_expanded = expanded['% Adults Uninsured'].mean()\n",
    "\n",
    "\n",
    "overweight_mean_nexpanded = not_expanded['% overweight or obese'].mean()\n",
    "smoke_mean_nexpanded = not_expanded['% Adults, Smoke'].mean()\n",
    "hd_mean_nexpanded= not_expanded['Heart Disease Death Rate per 100,000'].mean()\n",
    "cancer_mean_nexpanded = not_expanded['Cancer Death Rate per 100,000'].mean()\n",
    "stoke_mean_nexpanded = not_expanded['Stroke Death Rate per 100,000'].mean()\n",
    "mortality_mean_nexpanded = not_expanded['Mortality Rate per 100,000'].mean()\n",
    "suicide_mean_nexpanded = not_expanded['Suicide Rate per 100,000'].mean()\n",
    "life_exp_mean_nexpanded = not_expanded['Life Expectancy'].mean()\n",
    "poor_health_mean_nexpanded = not_expanded['% Adults, Health Poor'].mean()\n",
    "fair_health_mean_nexpanded = not_expanded['% Adults, Health Fair'].mean()\n",
    "good_health_mean_nexpanded = not_expanded['% Adults, Health Good'].mean()\n",
    "vg_health_mean_nexpanded = not_expanded['% Adults, Health Very Good'].mean()\n",
    "ex_health_mean_nexpanded = not_expanded['% Adults, Health Excellent'].mean()\n",
    "ex_mentalh_mean_nexpanded = not_expanded['Excellent Mental Health (0 Poor days)'].mean()\n",
    "good_mental_mean_nexpanded = not_expanded['Good Mental Health (1-4 Poor Days)'].mean()\n",
    "fair_mental_mean_nexpanded = not_expanded['Fair Mental Health (5-13 Days Poor)'].mean()\n",
    "bad_mental_mean_nexpanded = not_expanded['Bad Mental Health (14+ Days Poor)'].mean()\n",
    "no_care_mean_nexpanded = not_expanded['% Adults, No care due to cost'].mean()\n",
    "trouble_mean_nexpanded = not_expanded['% Adults, Trouble Paying Medical Bills'].mean()\n",
    "uninsured_mean_nexpanded = not_expanded['% Adults Uninsured'].mean()"
   ]
  },
  {
   "cell_type": "code",
   "execution_count": 15,
   "metadata": {},
   "outputs": [],
   "source": [
    "#Get sample standard deviations\n",
    "std_overweight_expanded = expanded['% overweight or obese'].std()\n",
    "std_smoke_expanded = expanded['% Adults, Smoke'].std()\n",
    "std_hd_expanded= expanded['Heart Disease Death Rate per 100,000'].std()\n",
    "std_cancer_expanded = expanded['Cancer Death Rate per 100,000'].std()\n",
    "std_stoke_expanded = expanded['Stroke Death Rate per 100,000'].std()\n",
    "std_mortality_expanded = expanded['Mortality Rate per 100,000'].std()\n",
    "std_suicide_expanded = expanded['Suicide Rate per 100,000'].std()\n",
    "std_life_exp_expanded = expanded['Life Expectancy'].std()\n",
    "std_poor_health_expanded = expanded['% Adults, Health Poor'].std()\n",
    "std_fair_health_expanded = expanded['% Adults, Health Fair'].std()\n",
    "std_good_health_expanded = expanded['% Adults, Health Good'].std()\n",
    "std_vg_health_expanded = expanded['% Adults, Health Very Good'].std()\n",
    "std_ex_health_expanded = expanded['% Adults, Health Excellent'].std()\n",
    "std_ex_mentalh_expanded = expanded['Excellent Mental Health (0 Poor days)'].std()\n",
    "std_good_mental_expanded = expanded['Good Mental Health (1-4 Poor Days)'].std()\n",
    "std_fair_mental_expanded = expanded['Fair Mental Health (5-13 Days Poor)'].std()\n",
    "std_bad_mental_expanded = expanded['Bad Mental Health (14+ Days Poor)'].std()\n",
    "std_no_care_expanded = expanded['% Adults, No care due to cost'].std()\n",
    "std_trouble_expanded = expanded['% Adults, Trouble Paying Medical Bills'].std()\n",
    "std_uninsured_expanded = expanded['% Adults Uninsured'].std()\n",
    "\n",
    "\n",
    "std_overweight_nexpanded = not_expanded['% overweight or obese'].std()\n",
    "std_smoke_nexpanded = not_expanded['% Adults, Smoke'].std()\n",
    "std_hd_nexpanded= not_expanded['Heart Disease Death Rate per 100,000'].std()\n",
    "std_cancer_nexpanded = not_expanded['Cancer Death Rate per 100,000'].std()\n",
    "std_stoke_nexpanded = not_expanded['Stroke Death Rate per 100,000'].std()\n",
    "std_mortality_nexpanded = not_expanded['Mortality Rate per 100,000'].std()\n",
    "std_suicide_nexpanded = not_expanded['Suicide Rate per 100,000'].std()\n",
    "std_life_exp_mean_nexpanded = not_expanded['Life Expectancy'].std()\n",
    "std_poor_health_nexpanded = not_expanded['% Adults, Health Poor'].std()\n",
    "std_fair_health_nexpanded = not_expanded['% Adults, Health Fair'].std()\n",
    "std_good_health_nexpanded = not_expanded['% Adults, Health Good'].std()\n",
    "std_vg_health_nexpanded = not_expanded['% Adults, Health Very Good'].std()\n",
    "std_ex_health_nexpanded = not_expanded['% Adults, Health Excellent'].std()\n",
    "std_ex_mentalh_nexpanded = not_expanded['Excellent Mental Health (0 Poor days)'].std()\n",
    "std_good_mental_nexpanded = not_expanded['Good Mental Health (1-4 Poor Days)'].std()\n",
    "std_fair_mental_nexpanded = not_expanded['Fair Mental Health (5-13 Days Poor)'].std()\n",
    "std_bad_mental_nexpanded = not_expanded['Bad Mental Health (14+ Days Poor)'].std()\n",
    "std_no_care_nexpanded = not_expanded['% Adults, No care due to cost'].std()\n",
    "std_trouble_nexpanded = not_expanded['% Adults, Trouble Paying Medical Bills'].std()\n",
    "std_uninsured_nexpanded = not_expanded['% Adults Uninsured'].std()\n"
   ]
  },
  {
   "cell_type": "code",
   "execution_count": 16,
   "metadata": {},
   "outputs": [],
   "source": [
    "alpha = .05/20\n",
    "n_expanded = 31\n",
    "n_not_expanded = 19 "
   ]
  },
  {
   "cell_type": "code",
   "execution_count": 23,
   "metadata": {},
   "outputs": [
    {
     "name": "stdout",
     "output_type": "stream",
     "text": [
      "T-Statistic: -2.4229, P-Value: 0.0194, P < alpha: False\n"
     ]
    }
   ],
   "source": [
    "#Welch's t-test % overweight or obese', '% Adults, Smoke',\n",
    "t_score_overweight, pval_ow = stats.ttest_ind_from_stats(overweight_mean_expanded, std_overweight_expanded, n_expanded, overweight_mean_nexpanded, std_overweight_nexpanded, n_not_expanded, equal_var=False)\n",
    "print(f\"T-Statistic: {t_score_overweight:.4f}, P-Value: {pval_ow:.4f}, P < alpha: {pval_ow < alpha}\")"
   ]
  },
  {
   "cell_type": "code",
   "execution_count": null,
   "metadata": {},
   "outputs": [],
   "source": [
    "\n",
    "\n",
    "       'Stroke Death Rate per 100,000', 'Mortality Rate per 100,000',\n",
    "       'Suicide Rate per 100,000', 'Life Expectancy', '% Adults, Health Poor',\n",
    "       'c', '% Adults, Health Good',\n",
    "       '% Adults, Health Very Good', '% Adults, Health Excellent',\n",
    "       'Excellent Mental Health (0 Poor days)',\n",
    "       'Good Mental Health (1-4 Poor Days)',\n",
    "       'Fair Mental Health (5-13 Days Poor)',\n",
    "       'Bad Mental Health (14+ Days Poor)'\n",
    " "
   ]
  },
  {
   "cell_type": "code",
   "execution_count": null,
   "metadata": {},
   "outputs": [],
   "source": [
    "#Welch's t-test % Adults, Smoke\n",
    "t_score_overweight, pval_ow = stats.ttest_ind_from_stats(overweight_mean_expanded, std_overweight_expanded, n_expanded, overweight_mean_nexpanded, std_overweight_nexpanded, n_not_expanded, equal_var=False)\n",
    "print(f\"T-Statistic: {t_score_overweight:.4f}, P-Value: {pval_ow:.4f}, P < alpha: {pval_ow < alpha}\")"
   ]
  },
  {
   "cell_type": "code",
   "execution_count": null,
   "metadata": {},
   "outputs": [],
   "source": [
    "#Welch's t-test Heart Disease Death Rate per 100,000\n",
    "t_score_hd, pval_hd = stats.ttest_ind_from_stats(hd_mean_expanded, std_hd_expanded, n_expanded, hd_mean_nexpanded, std_hd_nexpanded, n_not_expanded, equal_var=False)\n",
    "print(f\"T-Statistic: {t_score_hd:.4f}, P-Value: {pval_hd:.4f}, P < alpha: {pval_hd < alpha}\")"
   ]
  },
  {
   "cell_type": "code",
   "execution_count": null,
   "metadata": {},
   "outputs": [],
   "source": [
    "#Welch's t-test Cancer Death Rate per 100,000\n",
    "t_score_cancer, pval_cancer = stats.ttest_ind_from_stats(cancer_mean_expanded, cancer_std_expanded, n_expanded, cancer_mean_ne, cancer_std_ne, n_not_expanded, equal_var=False)\n",
    "print(f\"T-Statistic: {t_score_cancer:.4f}, P-Value: {pval_cancer:.4f}, P < alpha: {pval_cancer < alpha}\")"
   ]
  },
  {
   "cell_type": "code",
   "execution_count": 21,
   "metadata": {
    "scrolled": true
   },
   "outputs": [
    {
     "name": "stdout",
     "output_type": "stream",
     "text": [
      "T-Statistic: -1.3163328545331339, P-Value: 0.1961643312117037, P < alpha: False\n"
     ]
    }
   ],
   "source": [
    "#Welch's t-test Stroke Death Rate per 100,000"
   ]
  },
  {
   "cell_type": "code",
   "execution_count": 20,
   "metadata": {
    "scrolled": true
   },
   "outputs": [
    {
     "ename": "NameError",
     "evalue": "name 'cancer_std_expanded' is not defined",
     "output_type": "error",
     "traceback": [
      "\u001b[0;31m---------------------------------------------------------------------------\u001b[0m",
      "\u001b[0;31mNameError\u001b[0m                                 Traceback (most recent call last)",
      "\u001b[0;32m<ipython-input-20-78846c024fd9>\u001b[0m in \u001b[0;36m<module>\u001b[0;34m\u001b[0m\n\u001b[1;32m      1\u001b[0m \u001b[0;31m#Welch's t-test Cancer Death Rate per 100,000\u001b[0m\u001b[0;34m\u001b[0m\u001b[0;34m\u001b[0m\u001b[0;34m\u001b[0m\u001b[0m\n\u001b[1;32m      2\u001b[0m \u001b[0;34m\u001b[0m\u001b[0m\n\u001b[0;32m----> 3\u001b[0;31m \u001b[0mt_score_cancer\u001b[0m\u001b[0;34m,\u001b[0m \u001b[0mpval_cancer\u001b[0m \u001b[0;34m=\u001b[0m \u001b[0mstats\u001b[0m\u001b[0;34m.\u001b[0m\u001b[0mttest_ind_from_stats\u001b[0m\u001b[0;34m(\u001b[0m\u001b[0mcancer_mean_expanded\u001b[0m\u001b[0;34m,\u001b[0m \u001b[0mcancer_std_expanded\u001b[0m\u001b[0;34m,\u001b[0m \u001b[0mn_expanded\u001b[0m\u001b[0;34m,\u001b[0m \u001b[0mcancer_mean_ne\u001b[0m\u001b[0;34m,\u001b[0m \u001b[0mcancer_std_ne\u001b[0m\u001b[0;34m,\u001b[0m \u001b[0mn_not_expanded\u001b[0m\u001b[0;34m,\u001b[0m \u001b[0mequal_var\u001b[0m\u001b[0;34m=\u001b[0m\u001b[0;32mFalse\u001b[0m\u001b[0;34m)\u001b[0m\u001b[0;34m\u001b[0m\u001b[0;34m\u001b[0m\u001b[0m\n\u001b[0m\u001b[1;32m      4\u001b[0m \u001b[0mprint\u001b[0m\u001b[0;34m(\u001b[0m\u001b[0;34mf\"T-Statistic: {t_score_cancer}, P-Value: {pval_cancer}, P < alpha: {pval_cancer < alpha}\"\u001b[0m\u001b[0;34m)\u001b[0m\u001b[0;34m\u001b[0m\u001b[0;34m\u001b[0m\u001b[0m\n",
      "\u001b[0;31mNameError\u001b[0m: name 'cancer_std_expanded' is not defined"
     ]
    }
   ],
   "source": [
    "#Welch's t-test Mortality Rate per 100,000"
   ]
  },
  {
   "cell_type": "code",
   "execution_count": null,
   "metadata": {},
   "outputs": [],
   "source": [
    "#Welch's t-test Suicide Rate per 100,000"
   ]
  },
  {
   "cell_type": "code",
   "execution_count": null,
   "metadata": {},
   "outputs": [],
   "source": [
    "#Welch's t-test Life Expectancy"
   ]
  },
  {
   "cell_type": "code",
   "execution_count": null,
   "metadata": {},
   "outputs": [],
   "source": [
    "#Welch's t-test % Adults, Health Poor"
   ]
  },
  {
   "cell_type": "code",
   "execution_count": null,
   "metadata": {},
   "outputs": [],
   "source": [
    "#Welch's t-test% Adults, Health Fair"
   ]
  },
  {
   "cell_type": "code",
   "execution_count": null,
   "metadata": {},
   "outputs": [],
   "source": [
    "#Welch's t-test % Adults, Health Good"
   ]
  },
  {
   "cell_type": "code",
   "execution_count": null,
   "metadata": {},
   "outputs": [],
   "source": [
    "#Welch's t-test % Adults, Health Very Good"
   ]
  },
  {
   "cell_type": "code",
   "execution_count": null,
   "metadata": {},
   "outputs": [],
   "source": [
    "#Welch's t-test % Adults, Health Excellent"
   ]
  },
  {
   "cell_type": "code",
   "execution_count": null,
   "metadata": {},
   "outputs": [],
   "source": [
    "#Welch's t-test Excellent Mental Health (0 Poor days)"
   ]
  },
  {
   "cell_type": "code",
   "execution_count": null,
   "metadata": {},
   "outputs": [],
   "source": [
    "#Welch's t-test Good Mental Health (1-4 Poor Days)"
   ]
  },
  {
   "cell_type": "code",
   "execution_count": null,
   "metadata": {},
   "outputs": [],
   "source": [
    "#Welch's t-test Fair Mental Health (5-13 Days Poor)\n",
    "t_score_poor_health, pval_phealth = stats.ttest_ind_from_stats(poor_health_mean_expanded, poor_health_std_expanded, n_expanded), \n",
    "                                                 poor_health_mean_ne, poor_health_std_ne, n_not_expanded), equal_var=False)\n",
    "print(f\"T-Statistic: {t_score_poor_health}, P-Value: {pval_phealth}, P < alpha: {pval_phealth < alpha}\")"
   ]
  },
  {
   "cell_type": "code",
   "execution_count": null,
   "metadata": {},
   "outputs": [],
   "source": [
    "#Welch's t-test Bad Mental Health (14+ Days Poor)\n",
    "t_score_poor_mhealth, pval_mhealth = stats.ttest_ind_from_stats(poor_health_mean_expanded, poor_health_std_expanded, n_expanded), \n",
    "                                                  poor_mental_health_mean_ne, poor_mental_health_std_ne, n_not_expanded), equal_var=False)\n",
    "print(f\"T-Statistic: {t_score_poor_mhealth}, P-Value: {pval_mhealth}, P < alpha: {pval_mhealth < alpha}\")"
   ]
  },
  {
   "cell_type": "code",
   "execution_count": null,
   "metadata": {},
   "outputs": [],
   "source": [
    "#Welch's t-test % Adults, No care due to cost\n",
    "t_score_no_care, pval_no_care = stats.ttest_ind_from_stats(no_care_mean_expanded, no_care_std_expanded, n_expanded), \n",
    "                                             no_care_mean_ne, no_care_std_ne, n_not_expanded), equal_var=False)\n",
    "print(f\"T-Statistic: {t_score_no_care}, P-Value: {pval_no_care}, P < alpha: {pval_no_care < alpha}\")"
   ]
  },
  {
   "cell_type": "code",
   "execution_count": null,
   "metadata": {},
   "outputs": [],
   "source": [
    "#Welch's t-test % Adults, Trouble Paying Medical Bills\n",
    "t_score_trouble, pval_trouble = stats.ttest_ind_from_stats(trouble_mean_expanded, trouble_std_expanded, n_expanded), \n",
    "                                             trouble_mean_ne, trouble_std_ne, n_not_expanded), equal_var=False)\n",
    "print(f\"T-Statistic: {t_score_trouble}, P-Value: {pval_trouble}, P < alpha: {pval_trouble < alpha}\")"
   ]
  },
  {
   "cell_type": "code",
   "execution_count": null,
   "metadata": {},
   "outputs": [],
   "source": [
    "#Welch's t-test % Adults Uninsured\n",
    "t_score_uninsured, pval_uninsured = stats.ttest_ind_from_stats(uninsured_mean_expanded, uninsured_std_expanded, n_expanded), \n",
    "                                               uninsured_mean_ne, uninsured_std_ne, n_not_expanded), equal_var=False)\n",
    "print(f\"T-Statistic: {t_score_uninsured}, P-Value: {pval_uninsured}, P < alpha: {pval_uninsured < alpha}\")"
   ]
  },
  {
   "cell_type": "code",
   "execution_count": null,
   "metadata": {},
   "outputs": [],
   "source": [
    "#Welch's t-test"
   ]
  },
  {
   "cell_type": "code",
   "execution_count": null,
   "metadata": {},
   "outputs": [],
   "source": [
    "#Welch's t-test"
   ]
  },
  {
   "cell_type": "code",
   "execution_count": null,
   "metadata": {},
   "outputs": [],
   "source": [
    "#Welch's t-test"
   ]
  },
  {
   "cell_type": "code",
   "execution_count": null,
   "metadata": {},
   "outputs": [],
   "source": [
    "#Welch's t-test"
   ]
  },
  {
   "cell_type": "code",
   "execution_count": null,
   "metadata": {},
   "outputs": [],
   "source": [
    "#Welch's t-test"
   ]
  }
 ],
 "metadata": {
  "kernelspec": {
   "display_name": "Python 3",
   "language": "python",
   "name": "python3"
  },
  "language_info": {
   "codemirror_mode": {
    "name": "ipython",
    "version": 3
   },
   "file_extension": ".py",
   "mimetype": "text/x-python",
   "name": "python",
   "nbconvert_exporter": "python",
   "pygments_lexer": "ipython3",
   "version": "3.7.6"
  }
 },
 "nbformat": 4,
 "nbformat_minor": 4
}
