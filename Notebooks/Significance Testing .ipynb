{
 "cells": [
  {
   "cell_type": "code",
   "execution_count": 1,
   "metadata": {},
   "outputs": [],
   "source": [
    "import pandas as pd\n",
    "import matplotlib.pyplot as plt\n",
    "import numpy as np\n",
    "from scipy import stats\n",
    "%matplotlib inline\n",
    "plt.style.use('ggplot')"
   ]
  },
  {
   "cell_type": "code",
   "execution_count": 5,
   "metadata": {
    "scrolled": true
   },
   "outputs": [],
   "source": [
    "medicare_expanded = pd.read_excel('Desktop/Medicare Expansion Project/HEALTH DATA Adopted.xlsx')\n",
    "not_expanded = pd.read_excel('Desktop/Medicare Expansion Project/Health Data Not Adopted.xlsx')"
   ]
  },
  {
   "cell_type": "code",
   "execution_count": 15,
   "metadata": {},
   "outputs": [
    {
     "data": {
      "text/html": [
       "<div>\n",
       "<style scoped>\n",
       "    .dataframe tbody tr th:only-of-type {\n",
       "        vertical-align: middle;\n",
       "    }\n",
       "\n",
       "    .dataframe tbody tr th {\n",
       "        vertical-align: top;\n",
       "    }\n",
       "\n",
       "    .dataframe thead th {\n",
       "        text-align: right;\n",
       "    }\n",
       "</style>\n",
       "<table border=\"1\" class=\"dataframe\">\n",
       "  <thead>\n",
       "    <tr style=\"text-align: right;\">\n",
       "      <th></th>\n",
       "      <th>Heart Disease Death Rate per 100,000</th>\n",
       "      <th>Cancer Death Rate per 100,000</th>\n",
       "      <th>Poor Health</th>\n",
       "      <th>Poor Mental Health</th>\n",
       "      <th>No care due to cost</th>\n",
       "      <th>Trouble Paying Off Medical Bills</th>\n",
       "      <th>2018__Uninsured</th>\n",
       "    </tr>\n",
       "  </thead>\n",
       "  <tbody>\n",
       "    <tr>\n",
       "      <th>count</th>\n",
       "      <td>31.000000</td>\n",
       "      <td>31.000000</td>\n",
       "      <td>31.000000</td>\n",
       "      <td>31.000000</td>\n",
       "      <td>31.000000</td>\n",
       "      <td>31.000000</td>\n",
       "      <td>31.000000</td>\n",
       "    </tr>\n",
       "    <tr>\n",
       "      <th>mean</th>\n",
       "      <td>160.216129</td>\n",
       "      <td>149.696774</td>\n",
       "      <td>0.175871</td>\n",
       "      <td>0.230574</td>\n",
       "      <td>0.113372</td>\n",
       "      <td>0.271387</td>\n",
       "      <td>0.066968</td>\n",
       "    </tr>\n",
       "    <tr>\n",
       "      <th>std</th>\n",
       "      <td>27.272063</td>\n",
       "      <td>14.325862</td>\n",
       "      <td>0.034359</td>\n",
       "      <td>0.024872</td>\n",
       "      <td>0.021276</td>\n",
       "      <td>0.061048</td>\n",
       "      <td>0.021851</td>\n",
       "    </tr>\n",
       "    <tr>\n",
       "      <th>min</th>\n",
       "      <td>119.000000</td>\n",
       "      <td>123.500000</td>\n",
       "      <td>0.134000</td>\n",
       "      <td>0.189000</td>\n",
       "      <td>0.073460</td>\n",
       "      <td>0.149000</td>\n",
       "      <td>0.027210</td>\n",
       "    </tr>\n",
       "    <tr>\n",
       "      <th>25%</th>\n",
       "      <td>138.050000</td>\n",
       "      <td>141.000000</td>\n",
       "      <td>0.146000</td>\n",
       "      <td>0.214850</td>\n",
       "      <td>0.100415</td>\n",
       "      <td>0.237500</td>\n",
       "      <td>0.053172</td>\n",
       "    </tr>\n",
       "    <tr>\n",
       "      <th>50%</th>\n",
       "      <td>159.100000</td>\n",
       "      <td>146.500000</td>\n",
       "      <td>0.170000</td>\n",
       "      <td>0.224400</td>\n",
       "      <td>0.112340</td>\n",
       "      <td>0.265000</td>\n",
       "      <td>0.064757</td>\n",
       "    </tr>\n",
       "    <tr>\n",
       "      <th>75%</th>\n",
       "      <td>178.400000</td>\n",
       "      <td>158.000000</td>\n",
       "      <td>0.192500</td>\n",
       "      <td>0.249300</td>\n",
       "      <td>0.128255</td>\n",
       "      <td>0.321500</td>\n",
       "      <td>0.078205</td>\n",
       "    </tr>\n",
       "    <tr>\n",
       "      <th>max</th>\n",
       "      <td>217.400000</td>\n",
       "      <td>181.600000</td>\n",
       "      <td>0.263000</td>\n",
       "      <td>0.290900</td>\n",
       "      <td>0.149100</td>\n",
       "      <td>0.390000</td>\n",
       "      <td>0.120369</td>\n",
       "    </tr>\n",
       "  </tbody>\n",
       "</table>\n",
       "</div>"
      ],
      "text/plain": [
       "       Heart Disease Death Rate per 100,000  Cancer Death Rate per 100,000  \\\n",
       "count                             31.000000                      31.000000   \n",
       "mean                             160.216129                     149.696774   \n",
       "std                               27.272063                      14.325862   \n",
       "min                              119.000000                     123.500000   \n",
       "25%                              138.050000                     141.000000   \n",
       "50%                              159.100000                     146.500000   \n",
       "75%                              178.400000                     158.000000   \n",
       "max                              217.400000                     181.600000   \n",
       "\n",
       "       Poor Health  Poor Mental Health  No care due to cost  \\\n",
       "count    31.000000           31.000000            31.000000   \n",
       "mean      0.175871            0.230574             0.113372   \n",
       "std       0.034359            0.024872             0.021276   \n",
       "min       0.134000            0.189000             0.073460   \n",
       "25%       0.146000            0.214850             0.100415   \n",
       "50%       0.170000            0.224400             0.112340   \n",
       "75%       0.192500            0.249300             0.128255   \n",
       "max       0.263000            0.290900             0.149100   \n",
       "\n",
       "       Trouble Paying Off Medical Bills  2018__Uninsured  \n",
       "count                         31.000000        31.000000  \n",
       "mean                           0.271387         0.066968  \n",
       "std                            0.061048         0.021851  \n",
       "min                            0.149000         0.027210  \n",
       "25%                            0.237500         0.053172  \n",
       "50%                            0.265000         0.064757  \n",
       "75%                            0.321500         0.078205  \n",
       "max                            0.390000         0.120369  "
      ]
     },
     "execution_count": 15,
     "metadata": {},
     "output_type": "execute_result"
    }
   ],
   "source": [
    "medicare_expanded.describe()"
   ]
  },
  {
   "cell_type": "code",
   "execution_count": 6,
   "metadata": {},
   "outputs": [],
   "source": [
    "#Get sample means\n",
    "hd_mean_expanded= medicare_expanded['Heart Disease Death Rate per 100,000'].mean()\n",
    "cancer_mean_expanded = medicare_expanded['Cancer Death Rate per 100,000'].mean()\n",
    "poor_health_mean_expanded = medicare_expanded['Poor Health'].mean()\n",
    "poor_mental_health_mean_expanded = medicare_expanded['Poor Mental Health'].mean()\n",
    "no_care_mean_expanded = medicare_expanded['No care due to cost'].mean()\n",
    "trouble_mean_expanded = medicare_expanded['Trouble Paying Off Medical Bills'].mean()\n",
    "uninsured_mean_expanded = medicare_expanded['2018__Uninsured'].mean()\n",
    "\n",
    "hd_mean_ne = not_expanded['Heart Disease Death Rate per 100,000'].mean()\n",
    "cancer_mean_ne = not_expanded['Cancer Death Rate per 100,000'].mean()\n",
    "poor_health_mean_ne = not_expanded['Poor Health'].mean()\n",
    "poor_mental_health_mean_ne = not_expanded['Poor Mental Health'].mean()\n",
    "no_care_mean_ne = not_expanded['No care due to cost'].mean()\n",
    "trouble_mean_ne = not_expanded['Trouble Paying Off Medical Bills'].mean()\n",
    "uninsured_mean_ne = not_expanded['2018__Uninsured'].mean()"
   ]
  },
  {
   "cell_type": "code",
   "execution_count": 7,
   "metadata": {},
   "outputs": [],
   "source": [
    "#Get sample standard deviations\n",
    "std_hd_expanded = medicare_expanded['Heart Disease Death Rate per 100,000'].std()\n",
    "cancer_std_expanded = medicare_expanded['Cancer Death Rate per 100,000'].std()\n",
    "poor_health_std_expanded = medicare_expanded['Poor Health'].std()\n",
    "poor_mental_health_std_expanded = medicare_expanded['Poor Mental Health'].std()\n",
    "no_care_std_expanded = medicare_expanded['No care due to cost'].std()\n",
    "trouble_std_expanded = medicare_expanded['Trouble Paying Off Medical Bills'].std()\n",
    "uninsured_std_expanded = medicare_expanded['2018__Uninsured'].std()\n",
    "\n",
    "hd_std_ne = not_expanded['Heart Disease Death Rate per 100,000'].std()\n",
    "cancer_std_ne = not_expanded['Cancer Death Rate per 100,000'].std()\n",
    "poor_health_std_ne = not_expanded['Poor Health'].std()\n",
    "poor_mental_health_std_ne = not_expanded['Poor Mental Health'].std()\n",
    "no_care_std_ne = not_expanded['No care due to cost'].std()\n",
    "trouble_std_ne = not_expanded['Trouble Paying Off Medical Bills'].std()\n",
    "uninsured_std_ne = not_expanded['2018__Uninsured'].std()\n"
   ]
  },
  {
   "cell_type": "code",
   "execution_count": 24,
   "metadata": {},
   "outputs": [],
   "source": [
    "alpha1 = .0125\n",
    "alpha2 = .0167"
   ]
  },
  {
   "cell_type": "code",
   "execution_count": 18,
   "metadata": {
    "scrolled": true
   },
   "outputs": [
    {
     "name": "stdout",
     "output_type": "stream",
     "text": [
      "T-Statistic: -1.3163328545331339, P-Value: 0.1961643312117037, P < alpha: False\n"
     ]
    }
   ],
   "source": [
    "#Welch's t-test Heart Disease Death Rate per 100,000\n",
    "\n",
    "t_score_hd, pval_hd = stats.ttest_ind_from_stats(hd_mean_expanded, std_hd_expanded, len(medicare_expanded['Heart Disease Death Rate per 100,000']), \n",
    "                                        hd_mean_ne, hd_std_ne, len(not_expanded['Heart Disease Death Rate per 100,000']), equal_var=False)\n",
    "\n",
    "print(f\"T-Statistic: {t_score_hd}, P-Value: {pval_hd}, P < alpha: {pval_hd < alpha1}\")"
   ]
  },
  {
   "cell_type": "code",
   "execution_count": 20,
   "metadata": {},
   "outputs": [
    {
     "name": "stdout",
     "output_type": "stream",
     "text": [
      "T-Statistic: -1.1487430227472555, P-Value: 0.2577782787860322, P < alpha: False\n"
     ]
    }
   ],
   "source": [
    "#Welch's t-test Cancer Death Rate per 100,000\n",
    "t_score_cancer, pval_cancer = stats.ttest_ind_from_stats(cancer_mean_expanded, cancer_std_expanded, len(medicare_expanded['Cancer Death Rate per 100,000']), \n",
    "                                            cancer_mean_ne, cancer_std_ne, len(not_expanded['Cancer Death Rate per 100,000']), equal_var=False)\n",
    "print(f\"T-Statistic: {t_score_cancer}, P-Value: {pval_cancer}, P < alpha: {pval_cancer < alpha1}\")"
   ]
  },
  {
   "cell_type": "code",
   "execution_count": 29,
   "metadata": {},
   "outputs": [
    {
     "name": "stdout",
     "output_type": "stream",
     "text": [
      "T-Statistic: -1.0040284567079194, P-Value: 0.32097665837535233, P < alpha: False\n"
     ]
    }
   ],
   "source": [
    "#Welch's t-test Poor Health\n",
    "t_score_poor_health, pval_phealth = stats.ttest_ind_from_stats(poor_health_mean_expanded, poor_health_std_expanded, len(medicare_expanded['Poor Health']), \n",
    "                                                 poor_health_mean_ne, poor_health_std_ne, len(not_expanded['Poor Health']), equal_var=False)\n",
    "print(f\"T-Statistic: {t_score_poor_health}, P-Value: {pval_phealth}, P < alpha: {pval_phealth < alpha1}\")"
   ]
  },
  {
   "cell_type": "code",
   "execution_count": 27,
   "metadata": {},
   "outputs": [
    {
     "name": "stdout",
     "output_type": "stream",
     "text": [
      "T-Statistic: -6.613280558230961, P-Value: 2.9035039542281128e-08, P < alpha: True\n"
     ]
    }
   ],
   "source": [
    "#Welch's t-test Poor Mental Health\n",
    "t_score_poor_mhealth, pval_mhealth = stats.ttest_ind_from_stats(poor_health_mean_expanded, poor_health_std_expanded, len(medicare_expanded['Poor Mental Health']), \n",
    "                                                  poor_mental_health_mean_ne, poor_mental_health_std_ne, len(not_expanded['Poor Mental Health']), equal_var=False)\n",
    "print(f\"T-Statistic: {t_score_poor_mhealth}, P-Value: {pval_mhealth}, P < alpha: {pval_mhealth < alpha1}\")"
   ]
  },
  {
   "cell_type": "code",
   "execution_count": 28,
   "metadata": {},
   "outputs": [
    {
     "name": "stdout",
     "output_type": "stream",
     "text": [
      "T-Statistic: -4.33073454830087, P-Value: 0.00011889736816692388, P < alpha: True\n"
     ]
    }
   ],
   "source": [
    "#Welch's t-test No care due to cost\n",
    "t_score_no_care, pval_no_care = stats.ttest_ind_from_stats(no_care_mean_expanded, no_care_std_expanded, len(medicare_expanded['No care due to cost']), \n",
    "                                             no_care_mean_ne, no_care_std_ne, len(not_expanded['No care due to cost']), equal_var=False)\n",
    "print(f\"T-Statistic: {t_score_no_care}, P-Value: {pval_no_care}, P < alpha: {pval_no_care < alpha2}\")"
   ]
  },
  {
   "cell_type": "code",
   "execution_count": 26,
   "metadata": {},
   "outputs": [
    {
     "name": "stdout",
     "output_type": "stream",
     "text": [
      "T-Statistic: -4.865100870341971, P-Value: 1.3536393772301125e-05, P < alpha: True\n"
     ]
    }
   ],
   "source": [
    "#Welch's t-test Trouble Paying Off Medical Bills\n",
    "t_score_trouble, pval_trouble = stats.ttest_ind_from_stats(trouble_mean_expanded, trouble_std_expanded, len(medicare_expanded['Trouble Paying Off Medical Bills']), \n",
    "                                             trouble_mean_ne, trouble_std_ne, len(not_expanded['Trouble Paying Off Medical Bills']), equal_var=False)\n",
    "print(f\"T-Statistic: {t_score_trouble}, P-Value: {pval_trouble}, P < alpha: {pval_trouble < alpha2}\")"
   ]
  },
  {
   "cell_type": "code",
   "execution_count": 30,
   "metadata": {},
   "outputs": [
    {
     "name": "stdout",
     "output_type": "stream",
     "text": [
      "T-Statistic: -5.301286919330062, P-Value: 8.036374628111582e-06, P < alpha: True\n"
     ]
    }
   ],
   "source": [
    "#Welch's t-test 2018__Uninsured\n",
    "t_score_uninsured, pval_uninsured = stats.ttest_ind_from_stats(uninsured_mean_expanded, uninsured_std_expanded, len(medicare_expanded['2018__Uninsured']), \n",
    "                                               uninsured_mean_ne, uninsured_std_ne, len(not_expanded['2018__Uninsured']), equal_var=False)\n",
    "print(f\"T-Statistic: {t_score_uninsured}, P-Value: {pval_uninsured}, P < alpha: {pval_uninsured < alpha2}\")"
   ]
  },
  {
   "cell_type": "code",
   "execution_count": null,
   "metadata": {},
   "outputs": [],
   "source": []
  }
 ],
 "metadata": {
  "kernelspec": {
   "display_name": "Python 3",
   "language": "python",
   "name": "python3"
  },
  "language_info": {
   "codemirror_mode": {
    "name": "ipython",
    "version": 3
   },
   "file_extension": ".py",
   "mimetype": "text/x-python",
   "name": "python",
   "nbconvert_exporter": "python",
   "pygments_lexer": "ipython3",
   "version": "3.7.6"
  }
 },
 "nbformat": 4,
 "nbformat_minor": 4
}
