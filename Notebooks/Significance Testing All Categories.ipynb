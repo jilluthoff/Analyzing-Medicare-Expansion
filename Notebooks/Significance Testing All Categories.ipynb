{
 "cells": [
  {
   "cell_type": "code",
   "execution_count": 9,
   "metadata": {},
   "outputs": [],
   "source": [
    "import pandas as pd\n",
    "import matplotlib.pyplot as plt\n",
    "import numpy as np\n",
    "from scipy import stats\n",
    "%matplotlib inline\n",
    "plt.style.use('ggplot')"
   ]
  },
  {
   "cell_type": "code",
   "execution_count": 56,
   "metadata": {
    "scrolled": true
   },
   "outputs": [
    {
     "data": {
      "text/html": [
       "<div>\n",
       "<style scoped>\n",
       "    .dataframe tbody tr th:only-of-type {\n",
       "        vertical-align: middle;\n",
       "    }\n",
       "\n",
       "    .dataframe tbody tr th {\n",
       "        vertical-align: top;\n",
       "    }\n",
       "\n",
       "    .dataframe thead th {\n",
       "        text-align: right;\n",
       "    }\n",
       "</style>\n",
       "<table border=\"1\" class=\"dataframe\">\n",
       "  <thead>\n",
       "    <tr style=\"text-align: right;\">\n",
       "      <th></th>\n",
       "      <th>% overweight or obese</th>\n",
       "      <th>% Adults, Smoke</th>\n",
       "      <th>Heart Disease Death Rate per 100,000</th>\n",
       "      <th>Cancer Death Rate per 100,000</th>\n",
       "      <th>Stroke Death Rate per 100,000</th>\n",
       "      <th>Mortality Rate per 100,000</th>\n",
       "      <th>Suicide Rate per 100,000</th>\n",
       "      <th>Life Expectancy</th>\n",
       "      <th>% Adults, Health Poor</th>\n",
       "      <th>% Adults, Health Fair</th>\n",
       "      <th>% Adults, Health Good</th>\n",
       "      <th>% Adults, Health Very Good</th>\n",
       "      <th>% Adults, Health Excellent</th>\n",
       "      <th>Excellent Mental Health (0 Poor days)</th>\n",
       "      <th>Good Mental Health (1-4 Poor Days)</th>\n",
       "      <th>Fair Mental Health (5-13 Days Poor)</th>\n",
       "      <th>Bad Mental Health (14+ Days Poor)</th>\n",
       "      <th>% Adults, No care due to cost</th>\n",
       "      <th>% Adults, Trouble Paying Medical Bills</th>\n",
       "      <th>% Adults Uninsured</th>\n",
       "    </tr>\n",
       "  </thead>\n",
       "  <tbody>\n",
       "    <tr>\n",
       "      <th>count</th>\n",
       "      <td>19.000000</td>\n",
       "      <td>19.000000</td>\n",
       "      <td>19.000000</td>\n",
       "      <td>19.000000</td>\n",
       "      <td>19.000000</td>\n",
       "      <td>19.000000</td>\n",
       "      <td>19.000000</td>\n",
       "      <td>19.000000</td>\n",
       "      <td>19.000000</td>\n",
       "      <td>19.000000</td>\n",
       "      <td>19.000000</td>\n",
       "      <td>19.000000</td>\n",
       "      <td>19.000000</td>\n",
       "      <td>19.000000</td>\n",
       "      <td>19.000000</td>\n",
       "      <td>19.000000</td>\n",
       "      <td>19.000000</td>\n",
       "      <td>19.000000</td>\n",
       "      <td>19.000000</td>\n",
       "      <td>19.000000</td>\n",
       "    </tr>\n",
       "    <tr>\n",
       "      <th>mean</th>\n",
       "      <td>0.675632</td>\n",
       "      <td>17.036842</td>\n",
       "      <td>170.952632</td>\n",
       "      <td>154.478947</td>\n",
       "      <td>39.342105</td>\n",
       "      <td>778.415789</td>\n",
       "      <td>17.294737</td>\n",
       "      <td>78.132105</td>\n",
       "      <td>0.052053</td>\n",
       "      <td>0.132947</td>\n",
       "      <td>0.319474</td>\n",
       "      <td>0.324474</td>\n",
       "      <td>0.171158</td>\n",
       "      <td>0.641284</td>\n",
       "      <td>0.130395</td>\n",
       "      <td>0.096979</td>\n",
       "      <td>0.131358</td>\n",
       "      <td>0.142204</td>\n",
       "      <td>0.327053</td>\n",
       "      <td>0.087854</td>\n",
       "    </tr>\n",
       "    <tr>\n",
       "      <th>std</th>\n",
       "      <td>0.025133</td>\n",
       "      <td>2.806384</td>\n",
       "      <td>28.427908</td>\n",
       "      <td>14.264937</td>\n",
       "      <td>5.888814</td>\n",
       "      <td>80.756962</td>\n",
       "      <td>3.587706</td>\n",
       "      <td>1.599380</td>\n",
       "      <td>0.014516</td>\n",
       "      <td>0.016652</td>\n",
       "      <td>0.014339</td>\n",
       "      <td>0.026513</td>\n",
       "      <td>0.019285</td>\n",
       "      <td>0.027172</td>\n",
       "      <td>0.013912</td>\n",
       "      <td>0.011607</td>\n",
       "      <td>0.017811</td>\n",
       "      <td>0.023764</td>\n",
       "      <td>0.050472</td>\n",
       "      <td>0.025310</td>\n",
       "    </tr>\n",
       "    <tr>\n",
       "      <th>min</th>\n",
       "      <td>0.621000</td>\n",
       "      <td>9.000000</td>\n",
       "      <td>143.100000</td>\n",
       "      <td>120.000000</td>\n",
       "      <td>31.500000</td>\n",
       "      <td>657.900000</td>\n",
       "      <td>13.400000</td>\n",
       "      <td>74.890000</td>\n",
       "      <td>0.033000</td>\n",
       "      <td>0.111000</td>\n",
       "      <td>0.296000</td>\n",
       "      <td>0.281000</td>\n",
       "      <td>0.133000</td>\n",
       "      <td>0.583600</td>\n",
       "      <td>0.106600</td>\n",
       "      <td>0.078100</td>\n",
       "      <td>0.093500</td>\n",
       "      <td>0.099250</td>\n",
       "      <td>0.248000</td>\n",
       "      <td>0.053887</td>\n",
       "    </tr>\n",
       "    <tr>\n",
       "      <th>25%</th>\n",
       "      <td>0.661000</td>\n",
       "      <td>15.450000</td>\n",
       "      <td>150.300000</td>\n",
       "      <td>147.250000</td>\n",
       "      <td>34.800000</td>\n",
       "      <td>720.350000</td>\n",
       "      <td>14.250000</td>\n",
       "      <td>77.150000</td>\n",
       "      <td>0.042500</td>\n",
       "      <td>0.116500</td>\n",
       "      <td>0.311500</td>\n",
       "      <td>0.309000</td>\n",
       "      <td>0.159000</td>\n",
       "      <td>0.617150</td>\n",
       "      <td>0.123400</td>\n",
       "      <td>0.092050</td>\n",
       "      <td>0.121650</td>\n",
       "      <td>0.125750</td>\n",
       "      <td>0.290000</td>\n",
       "      <td>0.067661</td>\n",
       "    </tr>\n",
       "    <tr>\n",
       "      <th>50%</th>\n",
       "      <td>0.679000</td>\n",
       "      <td>17.400000</td>\n",
       "      <td>157.900000</td>\n",
       "      <td>152.400000</td>\n",
       "      <td>38.900000</td>\n",
       "      <td>753.900000</td>\n",
       "      <td>16.500000</td>\n",
       "      <td>78.680000</td>\n",
       "      <td>0.048000</td>\n",
       "      <td>0.132000</td>\n",
       "      <td>0.318000</td>\n",
       "      <td>0.322000</td>\n",
       "      <td>0.173000</td>\n",
       "      <td>0.646300</td>\n",
       "      <td>0.128300</td>\n",
       "      <td>0.095700</td>\n",
       "      <td>0.124700</td>\n",
       "      <td>0.149040</td>\n",
       "      <td>0.336000</td>\n",
       "      <td>0.087204</td>\n",
       "    </tr>\n",
       "    <tr>\n",
       "      <th>75%</th>\n",
       "      <td>0.692000</td>\n",
       "      <td>19.100000</td>\n",
       "      <td>182.100000</td>\n",
       "      <td>163.700000</td>\n",
       "      <td>42.350000</td>\n",
       "      <td>822.400000</td>\n",
       "      <td>19.350000</td>\n",
       "      <td>79.385000</td>\n",
       "      <td>0.061000</td>\n",
       "      <td>0.147000</td>\n",
       "      <td>0.326500</td>\n",
       "      <td>0.344000</td>\n",
       "      <td>0.185500</td>\n",
       "      <td>0.656650</td>\n",
       "      <td>0.135000</td>\n",
       "      <td>0.102200</td>\n",
       "      <td>0.145900</td>\n",
       "      <td>0.159940</td>\n",
       "      <td>0.347500</td>\n",
       "      <td>0.107077</td>\n",
       "    </tr>\n",
       "    <tr>\n",
       "      <th>max</th>\n",
       "      <td>0.733000</td>\n",
       "      <td>20.700000</td>\n",
       "      <td>228.500000</td>\n",
       "      <td>179.700000</td>\n",
       "      <td>51.800000</td>\n",
       "      <td>934.800000</td>\n",
       "      <td>24.800000</td>\n",
       "      <td>80.040000</td>\n",
       "      <td>0.082000</td>\n",
       "      <td>0.163000</td>\n",
       "      <td>0.353000</td>\n",
       "      <td>0.362000</td>\n",
       "      <td>0.205000</td>\n",
       "      <td>0.688400</td>\n",
       "      <td>0.171200</td>\n",
       "      <td>0.122900</td>\n",
       "      <td>0.160000</td>\n",
       "      <td>0.181990</td>\n",
       "      <td>0.436000</td>\n",
       "      <td>0.137747</td>\n",
       "    </tr>\n",
       "  </tbody>\n",
       "</table>\n",
       "</div>"
      ],
      "text/plain": [
       "       % overweight or obese  % Adults, Smoke  \\\n",
       "count              19.000000        19.000000   \n",
       "mean                0.675632        17.036842   \n",
       "std                 0.025133         2.806384   \n",
       "min                 0.621000         9.000000   \n",
       "25%                 0.661000        15.450000   \n",
       "50%                 0.679000        17.400000   \n",
       "75%                 0.692000        19.100000   \n",
       "max                 0.733000        20.700000   \n",
       "\n",
       "       Heart Disease Death Rate per 100,000  Cancer Death Rate per 100,000  \\\n",
       "count                             19.000000                      19.000000   \n",
       "mean                             170.952632                     154.478947   \n",
       "std                               28.427908                      14.264937   \n",
       "min                              143.100000                     120.000000   \n",
       "25%                              150.300000                     147.250000   \n",
       "50%                              157.900000                     152.400000   \n",
       "75%                              182.100000                     163.700000   \n",
       "max                              228.500000                     179.700000   \n",
       "\n",
       "       Stroke Death Rate per 100,000  Mortality Rate per 100,000  \\\n",
       "count                      19.000000                   19.000000   \n",
       "mean                       39.342105                  778.415789   \n",
       "std                         5.888814                   80.756962   \n",
       "min                        31.500000                  657.900000   \n",
       "25%                        34.800000                  720.350000   \n",
       "50%                        38.900000                  753.900000   \n",
       "75%                        42.350000                  822.400000   \n",
       "max                        51.800000                  934.800000   \n",
       "\n",
       "       Suicide Rate per 100,000  Life Expectancy  % Adults, Health Poor  \\\n",
       "count                 19.000000        19.000000              19.000000   \n",
       "mean                  17.294737        78.132105               0.052053   \n",
       "std                    3.587706         1.599380               0.014516   \n",
       "min                   13.400000        74.890000               0.033000   \n",
       "25%                   14.250000        77.150000               0.042500   \n",
       "50%                   16.500000        78.680000               0.048000   \n",
       "75%                   19.350000        79.385000               0.061000   \n",
       "max                   24.800000        80.040000               0.082000   \n",
       "\n",
       "       % Adults, Health Fair  % Adults, Health Good  \\\n",
       "count              19.000000              19.000000   \n",
       "mean                0.132947               0.319474   \n",
       "std                 0.016652               0.014339   \n",
       "min                 0.111000               0.296000   \n",
       "25%                 0.116500               0.311500   \n",
       "50%                 0.132000               0.318000   \n",
       "75%                 0.147000               0.326500   \n",
       "max                 0.163000               0.353000   \n",
       "\n",
       "       % Adults, Health Very Good  % Adults, Health Excellent  \\\n",
       "count                   19.000000                   19.000000   \n",
       "mean                     0.324474                    0.171158   \n",
       "std                      0.026513                    0.019285   \n",
       "min                      0.281000                    0.133000   \n",
       "25%                      0.309000                    0.159000   \n",
       "50%                      0.322000                    0.173000   \n",
       "75%                      0.344000                    0.185500   \n",
       "max                      0.362000                    0.205000   \n",
       "\n",
       "       Excellent Mental Health (0 Poor days)  \\\n",
       "count                              19.000000   \n",
       "mean                                0.641284   \n",
       "std                                 0.027172   \n",
       "min                                 0.583600   \n",
       "25%                                 0.617150   \n",
       "50%                                 0.646300   \n",
       "75%                                 0.656650   \n",
       "max                                 0.688400   \n",
       "\n",
       "       Good Mental Health (1-4 Poor Days)  \\\n",
       "count                           19.000000   \n",
       "mean                             0.130395   \n",
       "std                              0.013912   \n",
       "min                              0.106600   \n",
       "25%                              0.123400   \n",
       "50%                              0.128300   \n",
       "75%                              0.135000   \n",
       "max                              0.171200   \n",
       "\n",
       "       Fair Mental Health (5-13 Days Poor)  Bad Mental Health (14+ Days Poor)  \\\n",
       "count                            19.000000                          19.000000   \n",
       "mean                              0.096979                           0.131358   \n",
       "std                               0.011607                           0.017811   \n",
       "min                               0.078100                           0.093500   \n",
       "25%                               0.092050                           0.121650   \n",
       "50%                               0.095700                           0.124700   \n",
       "75%                               0.102200                           0.145900   \n",
       "max                               0.122900                           0.160000   \n",
       "\n",
       "       % Adults, No care due to cost  % Adults, Trouble Paying Medical Bills  \\\n",
       "count                      19.000000                               19.000000   \n",
       "mean                        0.142204                                0.327053   \n",
       "std                         0.023764                                0.050472   \n",
       "min                         0.099250                                0.248000   \n",
       "25%                         0.125750                                0.290000   \n",
       "50%                         0.149040                                0.336000   \n",
       "75%                         0.159940                                0.347500   \n",
       "max                         0.181990                                0.436000   \n",
       "\n",
       "       % Adults Uninsured  \n",
       "count           19.000000  \n",
       "mean             0.087854  \n",
       "std              0.025310  \n",
       "min              0.053887  \n",
       "25%              0.067661  \n",
       "50%              0.087204  \n",
       "75%              0.107077  \n",
       "max              0.137747  "
      ]
     },
     "execution_count": 56,
     "metadata": {},
     "output_type": "execute_result"
    }
   ],
   "source": [
    "#Create dataframe from excel file for all states, all data categories\n",
    "overall_data = pd.read_excel('~/github/gal/Analyzing-Medicare-Expansion/data2/All States All Data Collected.xlsx')\n",
    "\n",
    "#Subset dataframe to only include states that have expanded Medicare\n",
    "mask = overall_data.Expanded == 'Expanded'\n",
    "expanded = overall_data[mask]\n",
    "\n",
    "#Subset dataframe to only include states that have not expanded Medicare\n",
    "mask = overall_data.Expanded != 'Expanded'\n",
    "not_expanded = overall_data[mask]\n",
    "\n",
    "not_expanded.describe()"
   ]
  },
  {
   "cell_type": "code",
   "execution_count": 28,
   "metadata": {},
   "outputs": [],
   "source": [
    "#Get sample means\n",
    "\n",
    "overweight_mean_expanded = expanded['% overweight or obese'].mean()\n",
    "smoke_mean_expanded = expanded['% Adults, Smoke'].mean()\n",
    "hd_mean_expanded= expanded['Heart Disease Death Rate per 100,000'].mean()\n",
    "cancer_mean_expanded = expanded['Cancer Death Rate per 100,000'].mean()\n",
    "stroke_mean_expanded = expanded['Stroke Death Rate per 100,000'].mean()\n",
    "mortality_mean_expanded = expanded['Mortality Rate per 100,000'].mean()\n",
    "suicide_mean_expanded = expanded['Suicide Rate per 100,000'].mean()\n",
    "life_exp_mean_expanded = expanded['Life Expectancy'].mean()\n",
    "poor_health_mean_expanded = expanded['% Adults, Health Poor'].mean()\n",
    "fair_health_mean_expanded = expanded['% Adults, Health Fair'].mean()\n",
    "good_health_mean_expanded = expanded['% Adults, Health Good'].mean()\n",
    "vg_health_mean_expanded = expanded['% Adults, Health Very Good'].mean()\n",
    "ex_health_mean_expanded = expanded['% Adults, Health Excellent'].mean()\n",
    "ex_mentalh_mean_expanded = expanded['Excellent Mental Health (0 Poor days)'].mean()\n",
    "good_mental_mean_expanded = expanded['Good Mental Health (1-4 Poor Days)'].mean()\n",
    "fair_mental_mean_expanded = expanded['Fair Mental Health (5-13 Days Poor)'].mean()\n",
    "bad_mental_mean_expanded = expanded['Bad Mental Health (14+ Days Poor)'].mean()\n",
    "no_care_mean_expanded = expanded['% Adults, No care due to cost'].mean()\n",
    "trouble_mean_expanded = expanded['% Adults, Trouble Paying Medical Bills'].mean()\n",
    "uninsured_mean_expanded = expanded['% Adults Uninsured'].mean()\n",
    "\n",
    "\n",
    "overweight_mean_nexpanded = not_expanded['% overweight or obese'].mean()\n",
    "smoke_mean_nexpanded = not_expanded['% Adults, Smoke'].mean()\n",
    "hd_mean_nexpanded= not_expanded['Heart Disease Death Rate per 100,000'].mean()\n",
    "cancer_mean_nexpanded = not_expanded['Cancer Death Rate per 100,000'].mean()\n",
    "stroke_mean_nexpanded = not_expanded['Stroke Death Rate per 100,000'].mean()\n",
    "mortality_mean_nexpanded = not_expanded['Mortality Rate per 100,000'].mean()\n",
    "suicide_mean_nexpanded = not_expanded['Suicide Rate per 100,000'].mean()\n",
    "life_exp_mean_nexpanded = not_expanded['Life Expectancy'].mean()\n",
    "poor_health_mean_nexpanded = not_expanded['% Adults, Health Poor'].mean()\n",
    "fair_health_mean_nexpanded = not_expanded['% Adults, Health Fair'].mean()\n",
    "good_health_mean_nexpanded = not_expanded['% Adults, Health Good'].mean()\n",
    "vg_health_mean_nexpanded = not_expanded['% Adults, Health Very Good'].mean()\n",
    "ex_health_mean_nexpanded = not_expanded['% Adults, Health Excellent'].mean()\n",
    "ex_mentalh_mean_nexpanded = not_expanded['Excellent Mental Health (0 Poor days)'].mean()\n",
    "good_mental_mean_nexpanded = not_expanded['Good Mental Health (1-4 Poor Days)'].mean()\n",
    "fair_mental_mean_nexpanded = not_expanded['Fair Mental Health (5-13 Days Poor)'].mean()\n",
    "bad_mental_mean_nexpanded = not_expanded['Bad Mental Health (14+ Days Poor)'].mean()\n",
    "no_care_mean_nexpanded = not_expanded['% Adults, No care due to cost'].mean()\n",
    "trouble_mean_nexpanded = not_expanded['% Adults, Trouble Paying Medical Bills'].mean()\n",
    "uninsured_mean_nexpanded = not_expanded['% Adults Uninsured'].mean()"
   ]
  },
  {
   "cell_type": "code",
   "execution_count": 35,
   "metadata": {},
   "outputs": [],
   "source": [
    "#Get sample standard deviations\n",
    "std_overweight_expanded = expanded['% overweight or obese'].std()\n",
    "std_smoke_expanded = expanded['% Adults, Smoke'].std()\n",
    "std_hd_expanded= expanded['Heart Disease Death Rate per 100,000'].std()\n",
    "std_cancer_expanded = expanded['Cancer Death Rate per 100,000'].std()\n",
    "std_stroke_expanded = expanded['Stroke Death Rate per 100,000'].std()\n",
    "std_mortality_expanded = expanded['Mortality Rate per 100,000'].std()\n",
    "std_suicide_expanded = expanded['Suicide Rate per 100,000'].std()\n",
    "std_life_exp_expanded = expanded['Life Expectancy'].std()\n",
    "std_poor_health_expanded = expanded['% Adults, Health Poor'].std()\n",
    "std_fair_health_expanded = expanded['% Adults, Health Fair'].std()\n",
    "std_good_health_expanded = expanded['% Adults, Health Good'].std()\n",
    "std_vg_health_expanded = expanded['% Adults, Health Very Good'].std()\n",
    "std_ex_health_expanded = expanded['% Adults, Health Excellent'].std()\n",
    "std_ex_mentalh_expanded = expanded['Excellent Mental Health (0 Poor days)'].std()\n",
    "std_good_mental_expanded = expanded['Good Mental Health (1-4 Poor Days)'].std()\n",
    "std_fair_mental_expanded = expanded['Fair Mental Health (5-13 Days Poor)'].std()\n",
    "std_bad_mental_expanded = expanded['Bad Mental Health (14+ Days Poor)'].std()\n",
    "std_no_care_expanded = expanded['% Adults, No care due to cost'].std()\n",
    "std_trouble_expanded = expanded['% Adults, Trouble Paying Medical Bills'].std()\n",
    "std_uninsured_expanded = expanded['% Adults Uninsured'].std()\n",
    "\n",
    "\n",
    "std_overweight_nexpanded = not_expanded['% overweight or obese'].std()\n",
    "std_smoke_nexpanded = not_expanded['% Adults, Smoke'].std()\n",
    "std_hd_nexpanded= not_expanded['Heart Disease Death Rate per 100,000'].std()\n",
    "std_cancer_nexpanded = not_expanded['Cancer Death Rate per 100,000'].std()\n",
    "std_stroke_nexpanded = not_expanded['Stroke Death Rate per 100,000'].std()\n",
    "std_mortality_nexpanded = not_expanded['Mortality Rate per 100,000'].std()\n",
    "std_suicide_nexpanded = not_expanded['Suicide Rate per 100,000'].std()\n",
    "std_life_exp_nexpanded = not_expanded['Life Expectancy'].std()\n",
    "std_poor_health_nexpanded = not_expanded['% Adults, Health Poor'].std()\n",
    "std_fair_health_nexpanded = not_expanded['% Adults, Health Fair'].std()\n",
    "std_good_health_nexpanded = not_expanded['% Adults, Health Good'].std()\n",
    "std_vg_health_nexpanded = not_expanded['% Adults, Health Very Good'].std()\n",
    "std_ex_health_nexpanded = not_expanded['% Adults, Health Excellent'].std()\n",
    "std_ex_mentalh_nexpanded = not_expanded['Excellent Mental Health (0 Poor days)'].std()\n",
    "std_good_mental_nexpanded = not_expanded['Good Mental Health (1-4 Poor Days)'].std()\n",
    "std_fair_mental_nexpanded = not_expanded['Fair Mental Health (5-13 Days Poor)'].std()\n",
    "std_bad_mental_nexpanded = not_expanded['Bad Mental Health (14+ Days Poor)'].std()\n",
    "std_no_care_nexpanded = not_expanded['% Adults, No care due to cost'].std()\n",
    "std_trouble_nexpanded = not_expanded['% Adults, Trouble Paying Medical Bills'].std()\n",
    "std_uninsured_nexpanded = not_expanded['% Adults Uninsured'].std()\n"
   ]
  },
  {
   "cell_type": "code",
   "execution_count": 16,
   "metadata": {},
   "outputs": [],
   "source": [
    "alpha = .05/20\n",
    "n_expanded = 31\n",
    "n_not_expanded = 19 "
   ]
  },
  {
   "cell_type": "code",
   "execution_count": 23,
   "metadata": {},
   "outputs": [
    {
     "name": "stdout",
     "output_type": "stream",
     "text": [
      "T-Statistic: -2.4229, P-Value: 0.0194, P < alpha: False\n"
     ]
    }
   ],
   "source": [
    "#Welch's t-test % overweight or obese', '% Adults, Smoke',\n",
    "t_score_overweight, pval_ow = stats.ttest_ind_from_stats(overweight_mean_expanded, std_overweight_expanded, n_expanded, overweight_mean_nexpanded, std_overweight_nexpanded, n_not_expanded, equal_var=False)\n",
    "print(f\"T-Statistic: {t_score_overweight:.4f}, P-Value: {pval_ow:.4f}, P < alpha: {pval_ow < alpha}\")"
   ]
  },
  {
   "cell_type": "code",
   "execution_count": 24,
   "metadata": {},
   "outputs": [
    {
     "name": "stdout",
     "output_type": "stream",
     "text": [
      "T-Statistic: -0.6858, P-Value: 0.4964, P < alpha: False\n"
     ]
    }
   ],
   "source": [
    "#Welch's t-test % Adults, Smoke\n",
    "t_score_smoke, pval_smoke = stats.ttest_ind_from_stats(smoke_mean_expanded, std_smoke_expanded, n_expanded, smoke_mean_nexpanded, std_smoke_nexpanded, n_not_expanded, equal_var=False)\n",
    "print(f\"T-Statistic: {t_score_smoke:.4f}, P-Value: {pval_smoke:.4f}, P < alpha: {pval_smoke < alpha}\")"
   ]
  },
  {
   "cell_type": "code",
   "execution_count": 25,
   "metadata": {},
   "outputs": [
    {
     "name": "stdout",
     "output_type": "stream",
     "text": [
      "T-Statistic: -1.3163, P-Value: 0.1962, P < alpha: False\n"
     ]
    }
   ],
   "source": [
    "#Welch's t-test Heart Disease Death Rate per 100,000\n",
    "t_score_hd, pval_hd = stats.ttest_ind_from_stats(hd_mean_expanded, std_hd_expanded, n_expanded, hd_mean_nexpanded, std_hd_nexpanded, n_not_expanded, equal_var=False)\n",
    "print(f\"T-Statistic: {t_score_hd:.4f}, P-Value: {pval_hd:.4f}, P < alpha: {pval_hd < alpha}\")"
   ]
  },
  {
   "cell_type": "code",
   "execution_count": 26,
   "metadata": {},
   "outputs": [
    {
     "name": "stdout",
     "output_type": "stream",
     "text": [
      "T-Statistic: -1.1487, P-Value: 0.2578, P < alpha: False\n"
     ]
    }
   ],
   "source": [
    "#Welch's t-test Cancer Death Rate per 100,000\n",
    "t_score_cancer, pval_cancer = stats.ttest_ind_from_stats(cancer_mean_expanded, std_cancer_expanded, n_expanded, cancer_mean_nexpanded, std_cancer_nexpanded, n_not_expanded, equal_var=False)\n",
    "print(f\"T-Statistic: {t_score_cancer:.4f}, P-Value: {pval_cancer:.4f}, P < alpha: {pval_cancer < alpha}\")"
   ]
  },
  {
   "cell_type": "code",
   "execution_count": 36,
   "metadata": {
    "scrolled": true
   },
   "outputs": [
    {
     "name": "stdout",
     "output_type": "stream",
     "text": [
      "T-Statistic: -2.3968, P-Value: 0.0216, P < alpha: False\n"
     ]
    }
   ],
   "source": [
    "#Welch's t-test Stroke Death Rate per 100,000\n",
    "t_score_stroke, pval_stroke = stats.ttest_ind_from_stats(stroke_mean_expanded, std_stroke_expanded, n_expanded, stroke_mean_nexpanded, std_stroke_nexpanded, n_not_expanded, equal_var=False)\n",
    "print(f\"T-Statistic: {t_score_stroke:.4f}, P-Value: {pval_stroke:.4f}, P < alpha: {pval_stroke < alpha}\")"
   ]
  },
  {
   "cell_type": "code",
   "execution_count": 37,
   "metadata": {
    "scrolled": true
   },
   "outputs": [
    {
     "name": "stdout",
     "output_type": "stream",
     "text": [
      "T-Statistic: -2.0245, P-Value: 0.0494, P < alpha: False\n"
     ]
    }
   ],
   "source": [
    "#Welch's t-test Mortality Rate per 100,000\n",
    "t_score_mortality, pval_mortality = stats.ttest_ind_from_stats(mortality_mean_expanded, std_mortality_expanded, n_expanded, mortality_mean_nexpanded, std_mortality_nexpanded, n_not_expanded, equal_var=False)\n",
    "print(f\"T-Statistic: {t_score_mortality:.4f}, P-Value: {pval_mortality:.4f}, P < alpha: {pval_mortality < alpha}\")"
   ]
  },
  {
   "cell_type": "code",
   "execution_count": 33,
   "metadata": {},
   "outputs": [
    {
     "name": "stdout",
     "output_type": "stream",
     "text": [
      "T-Statistic: -1.1870, P-Value: 0.2413, P < alpha: False\n"
     ]
    }
   ],
   "source": [
    "#Welch's t-test Suicide Rate per 100,000\n",
    "t_score_suicide, pval_suicide = stats.ttest_ind_from_stats(suicide_mean_expanded, std_suicide_expanded, n_expanded, suicide_mean_nexpanded, std_suicide_nexpanded, n_not_expanded, equal_var=False)\n",
    "print(f\"T-Statistic: {t_score_suicide:.4f}, P-Value: {pval_suicide:.4f}, P < alpha: {pval_suicide < alpha}\")"
   ]
  },
  {
   "cell_type": "code",
   "execution_count": 39,
   "metadata": {},
   "outputs": [
    {
     "name": "stdout",
     "output_type": "stream",
     "text": [
      "T-Statistic: 1.8499, P-Value: 0.0713, P < alpha: False\n"
     ]
    }
   ],
   "source": [
    "#Welch's t-test Life Expectancy\n",
    "t_score_life_exp, pval_life_exp = stats.ttest_ind_from_stats(life_exp_mean_expanded, std_life_exp_expanded, n_expanded, life_exp_mean_nexpanded, std_life_exp_nexpanded, n_not_expanded, equal_var=False)\n",
    "print(f\"T-Statistic: {t_score_life_exp:.4f}, P-Value: {pval_life_exp:.4f}, P < alpha: {pval_life_exp < alpha}\")"
   ]
  },
  {
   "cell_type": "code",
   "execution_count": 46,
   "metadata": {},
   "outputs": [
    {
     "name": "stdout",
     "output_type": "stream",
     "text": [
      "T-Statistic: -1.4605, P-Value: 0.1522, P < alpha: False\n"
     ]
    }
   ],
   "source": [
    "#Welch's t-test % Adults, Health Poor\n",
    "t_score_stroke, pval_poor_health = stats.ttest_ind_from_stats(poor_health_mean_expanded, std_poor_health_expanded, n_expanded, poor_health_mean_nexpanded, std_poor_health_nexpanded, n_not_expanded, equal_var=False)\n",
    "print(f\"T-Statistic: {t_score_stroke:.4f}, P-Value: {pval_poor_health:.4f}, P < alpha: {pval_poor_health < alpha}\")"
   ]
  },
  {
   "cell_type": "code",
   "execution_count": 42,
   "metadata": {},
   "outputs": [
    {
     "name": "stdout",
     "output_type": "stream",
     "text": [
      "T-Statistic: -0.5396, P-Value: 0.5922, P < alpha: False\n"
     ]
    }
   ],
   "source": [
    "#Welch's t-test% Adults, Health Fair\n",
    "t_score_fair_health, pval_fair_health = stats.ttest_ind_from_stats(fair_health_mean_expanded, std_fair_health_expanded, n_expanded, fair_health_mean_nexpanded, std_fair_health_nexpanded, n_not_expanded, equal_var=False)\n",
    "print(f\"T-Statistic: {t_score_fair_health:.4f}, P-Value: {pval_fair_health:.4f}, P < alpha: {pval_fair_health < alpha}\")"
   ]
  },
  {
   "cell_type": "code",
   "execution_count": 43,
   "metadata": {},
   "outputs": [
    {
     "name": "stdout",
     "output_type": "stream",
     "text": [
      "T-Statistic: 8109.9196, P-Value: 0.0000, P < alpha: True\n"
     ]
    }
   ],
   "source": [
    "#Welch's t-test % Adults, Health Good\n",
    "t_score_good_health, pval_good_health = stats.ttest_ind_from_stats(stroke_mean_expanded, std_good_health_expanded, n_expanded, good_health_mean_nexpanded, std_good_health_nexpanded, n_not_expanded, equal_var=False)\n",
    "print(f\"T-Statistic: {t_score_good_health:.4f}, P-Value: {pval_good_health:.4f}, P < alpha: {pval_good_health < alpha}\")"
   ]
  },
  {
   "cell_type": "code",
   "execution_count": 44,
   "metadata": {},
   "outputs": [
    {
     "name": "stdout",
     "output_type": "stream",
     "text": [
      "T-Statistic: 0.2440, P-Value: 0.8085, P < alpha: False\n"
     ]
    }
   ],
   "source": [
    "#Welch's t-test % Adults, Health Very Good\n",
    "t_score_vg_health, pval_vg_health = stats.ttest_ind_from_stats(vg_health_mean_expanded, std_vg_health_expanded, n_expanded, vg_health_mean_nexpanded, std_vg_health_nexpanded, n_not_expanded, equal_var=False)\n",
    "print(f\"T-Statistic: {t_score_vg_health:.4f}, P-Value: {pval_vg_health:.4f}, P < alpha: {pval_vg_health < alpha}\")"
   ]
  },
  {
   "cell_type": "code",
   "execution_count": 45,
   "metadata": {},
   "outputs": [
    {
     "name": "stdout",
     "output_type": "stream",
     "text": [
      "T-Statistic: 1.2078, P-Value: 0.2337, P < alpha: False\n"
     ]
    }
   ],
   "source": [
    "#Welch's t-test % Adults, Health Excellent\n",
    "t_score_ex_health, pval_ex_health = stats.ttest_ind_from_stats(ex_health_mean_expanded, std_ex_health_expanded, n_expanded, ex_health_mean_nexpanded, std_ex_health_nexpanded, n_not_expanded, equal_var=False)\n",
    "print(f\"T-Statistic: {t_score_ex_health:.4f}, P-Value: {pval_ex_health:.4f}, P < alpha: {pval_ex_health < alpha}\")"
   ]
  },
  {
   "cell_type": "code",
   "execution_count": 48,
   "metadata": {},
   "outputs": [
    {
     "name": "stdout",
     "output_type": "stream",
     "text": [
      "T-Statistic: -1.1081, P-Value: 0.2751, P < alpha: False\n"
     ]
    }
   ],
   "source": [
    "#Welch's t-test Excellent Mental Health (0 Poor days)\n",
    "t_score_ex_mentalh, pval_ex_mentalh = stats.ttest_ind_from_stats(ex_mentalh_mean_expanded, std_ex_mentalh_expanded, n_expanded, ex_mentalh_mean_nexpanded, std_ex_mentalh_nexpanded, n_not_expanded, equal_var=False)\n",
    "print(f\"T-Statistic: {t_score_ex_mentalh:.4f}, P-Value: {pval_ex_mentalh:.4f}, P < alpha: {pval_ex_mentalh < alpha}\")"
   ]
  },
  {
   "cell_type": "code",
   "execution_count": 50,
   "metadata": {},
   "outputs": [
    {
     "name": "stdout",
     "output_type": "stream",
     "text": [
      "T-Statistic: 1.5651, P-Value: 0.1259, P < alpha: False\n"
     ]
    }
   ],
   "source": [
    "#Welch's t-test Good Mental Health (1-4 Poor Days)\n",
    "t_score_good_mental, pval_good_mental = stats.ttest_ind_from_stats(good_mental_mean_expanded, std_good_mental_expanded, n_expanded, good_mental_mean_nexpanded, std_good_mental_nexpanded, n_not_expanded, equal_var=False)\n",
    "print(f\"T-Statistic: {t_score_good_mental:.4f}, P-Value: {pval_good_mental:.4f}, P < alpha: {pval_good_mental < alpha}\")"
   ]
  },
  {
   "cell_type": "code",
   "execution_count": 51,
   "metadata": {},
   "outputs": [
    {
     "name": "stdout",
     "output_type": "stream",
     "text": [
      "T-Statistic: 1.6392, P-Value: 0.1107, P < alpha: False\n"
     ]
    }
   ],
   "source": [
    "#Welch's t-test Fair Mental Health (5-13 Days Poor)\n",
    "t_score_fair_mental, pval_fair_mental = stats.ttest_ind_from_stats(fair_mental_mean_expanded, std_fair_mental_expanded, n_expanded, fair_mental_mean_nexpanded, std_fair_mental_nexpanded, n_not_expanded, equal_var=False)\n",
    "print(f\"T-Statistic: {t_score_fair_mental:.4f}, P-Value: {pval_fair_mental:.4f}, P < alpha: {pval_fair_mental < alpha}\")"
   ]
  },
  {
   "cell_type": "code",
   "execution_count": 52,
   "metadata": {},
   "outputs": [
    {
     "name": "stdout",
     "output_type": "stream",
     "text": [
      "T-Statistic: -0.5301, P-Value: 0.5987, P < alpha: False\n"
     ]
    }
   ],
   "source": [
    "#Welch's t-test Bad Mental Health (14+ Days Poor)\n",
    "t_score_bad_mental, pval_bad_mental = stats.ttest_ind_from_stats(bad_mental_mean_expanded, std_bad_mental_expanded, n_expanded, bad_mental_mean_nexpanded, std_bad_mental_nexpanded, n_not_expanded, equal_var=False)\n",
    "print(f\"T-Statistic: {t_score_bad_mental:.4f}, P-Value: {pval_bad_mental:.4f}, P < alpha: {pval_bad_mental < alpha}\")"
   ]
  },
  {
   "cell_type": "code",
   "execution_count": 53,
   "metadata": {},
   "outputs": [
    {
     "name": "stdout",
     "output_type": "stream",
     "text": [
      "T-Statistic: -0.4048, P-Value: 0.6877, P < alpha: False\n"
     ]
    }
   ],
   "source": [
    "#Welch's t-test % Adults, No care due to cost\n",
    "t_score_no_care, pval_no_care = stats.ttest_ind_from_stats(no_care_mean_expanded, std_no_care_expanded, n_expanded, no_care_mean_nexpanded, std_no_care_nexpanded, n_not_expanded, equal_var=False)\n",
    "print(f\"T-Statistic: {t_score_no_care:.4f}, P-Value: {pval_no_care:.4f}, P < alpha: {pval_no_care < alpha}\")"
   ]
  },
  {
   "cell_type": "code",
   "execution_count": 54,
   "metadata": {},
   "outputs": [
    {
     "name": "stdout",
     "output_type": "stream",
     "text": [
      "T-Statistic: -2.6797, P-Value: 0.0102, P < alpha: False\n"
     ]
    }
   ],
   "source": [
    "#Welch's t-test % Adults, Trouble Paying Medical Bills\n",
    "t_score_trouble, pval_trouble = stats.ttest_ind_from_stats(trouble_mean_expanded, std_trouble_expanded, n_expanded, trouble_mean_nexpanded, std_trouble_nexpanded, n_not_expanded, equal_var=False)\n",
    "print(f\"T-Statistic: {t_score_trouble:.4f}, P-Value: {pval_trouble:.4f}, P < alpha: {pval_trouble < alpha}\")"
   ]
  },
  {
   "cell_type": "code",
   "execution_count": 55,
   "metadata": {},
   "outputs": [
    {
     "name": "stdout",
     "output_type": "stream",
     "text": [
      "T-Statistic: -1.1986, P-Value: 0.2369, P < alpha: False\n"
     ]
    }
   ],
   "source": [
    "#Welch's t-test % Adults Uninsured\n",
    "t_score_uninsured, pval_uninsured = stats.ttest_ind_from_stats(uninsured_mean_expanded, std_uninsured_expanded, n_expanded, uninsured_mean_nexpanded, std_uninsured_nexpanded, n_not_expanded, equal_var=False)\n",
    "print(f\"T-Statistic: {t_score_uninsured:.4f}, P-Value: {pval_uninsured:.4f}, P < alpha: {pval_uninsured < alpha}\")"
   ]
  },
  {
   "cell_type": "code",
   "execution_count": 57,
   "metadata": {},
   "outputs": [
    {
     "name": "stdout",
     "output_type": "stream",
     "text": [
      "T-Statistic: -1.1986, P-Value: 0.2369, P < alpha: False\n"
     ]
    }
   ],
   "source": [
    "#Welch's t-test % Adults Uninsured\n",
    "t_score_uninsured, pval_uninsured = stats.ttest_ind_from_stats(uninsured_mean_expanded, std_uninsured_expanded, n_expanded, uninsured_mean_nexpanded, std_uninsured_nexpanded, n_not_expanded, equal_var=False)\n",
    "print(f\"T-Statistic: {t_score_uninsured:.4f}, P-Value: {pval_uninsured:.4f}, P < alpha: {pval_uninsured < alpha}\")"
   ]
  },
  {
   "cell_type": "code",
   "execution_count": null,
   "metadata": {},
   "outputs": [],
   "source": []
  }
 ],
 "metadata": {
  "kernelspec": {
   "display_name": "Python 3",
   "language": "python",
   "name": "python3"
  },
  "language_info": {
   "codemirror_mode": {
    "name": "ipython",
    "version": 3
   },
   "file_extension": ".py",
   "mimetype": "text/x-python",
   "name": "python",
   "nbconvert_exporter": "python",
   "pygments_lexer": "ipython3",
   "version": "3.7.6"
  }
 },
 "nbformat": 4,
 "nbformat_minor": 4
}
